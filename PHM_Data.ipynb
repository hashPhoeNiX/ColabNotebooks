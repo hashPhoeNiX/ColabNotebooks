{
  "nbformat": 4,
  "nbformat_minor": 0,
  "metadata": {
    "colab": {
      "name": "PHM Data.ipynb",
      "provenance": [],
      "collapsed_sections": [],
      "mount_file_id": "191vAzsYROJVGfaLgEQFGO3NVQz97XJQP",
      "authorship_tag": "ABX9TyNKmS7+XACS+nwip+HZeLWw",
      "include_colab_link": true
    },
    "kernelspec": {
      "name": "python3",
      "display_name": "Python 3"
    },
    "accelerator": "GPU"
  },
  "cells": [
    {
      "cell_type": "markdown",
      "metadata": {
        "id": "view-in-github",
        "colab_type": "text"
      },
      "source": [
        "<a href=\"https://colab.research.google.com/github/hashPhoeNiX/ColabNotebooks/blob/master/PHM_Data.ipynb\" target=\"_parent\"><img src=\"https://colab.research.google.com/assets/colab-badge.svg\" alt=\"Open In Colab\"/></a>"
      ]
    },
    {
      "cell_type": "markdown",
      "metadata": {
        "id": "nWnFlxX-IBk7",
        "colab_type": "text"
      },
      "source": [
        "#### Dataset folder: https://drive.google.com/drive/folders/1I4sweKPWtAeuL9vxFeLTbfeL8s-rcbz8?usp=sharing"
      ]
    },
    {
      "cell_type": "code",
      "metadata": {
        "id": "vO_dEhMH1YHy",
        "colab_type": "code",
        "colab": {}
      },
      "source": [
        "import numpy as np\n",
        "import matplotlib.pyplot as plt\n",
        "import pandas as pd\n",
        "import math as m\n",
        "import keras as k\n",
        "from sklearn import preprocessing\n",
        "from keras.models import Model\n",
        "from keras.layers import Dense, Dropout, Flatten, merge, Input, Activation\n",
        "from keras.layers.convolutional import Convolution2D, MaxPooling2D, ZeroPadding2D\n",
        "from keras.layers.pooling import GlobalAveragePooling2D\n",
        "from keras.utils import np_utils\n",
        "from keras.regularizers import l2, l1\n",
        "from keras.optimizers import SGD, Adadelta, Adam\n",
        "from keras.layers.normalization import BatchNormalization\n",
        "from keras.callbacks import EarlyStopping\n",
        "from keras.models import Sequential\n",
        "from keras.layers import Dense\n",
        "from keras import backend as K\n",
        "from sklearn.metrics import mean_squared_error \n",
        "from keras.wrappers.scikit_learn import KerasRegressor\n",
        "from sklearn.model_selection import cross_val_score\n",
        "from keras.models import load_model\n",
        "from sklearn.metrics import mean_squared_error"
      ],
      "execution_count": null,
      "outputs": []
    },
    {
      "cell_type": "code",
      "metadata": {
        "id": "lmPCp_dg5X6a",
        "colab_type": "code",
        "colab": {
          "base_uri": "https://localhost:8080/",
          "height": 34
        },
        "outputId": "44fced4e-b0e9-4d75-e812-7b847b6c7b14"
      },
      "source": [
        "import os\n",
        "import glob\n",
        "os.getcwd()"
      ],
      "execution_count": null,
      "outputs": [
        {
          "output_type": "execute_result",
          "data": {
            "text/plain": [
              "'/content'"
            ]
          },
          "metadata": {
            "tags": []
          },
          "execution_count": 2
        }
      ]
    },
    {
      "cell_type": "code",
      "metadata": {
        "id": "IPswPKSd5YCo",
        "colab_type": "code",
        "colab": {}
      },
      "source": [
        "os.chdir('/content/drive/My Drive/Colab Notebooks/Untitled folder/PHM DATA SET')"
      ],
      "execution_count": null,
      "outputs": []
    },
    {
      "cell_type": "code",
      "metadata": {
        "id": "LLt-MmF16N1z",
        "colab_type": "code",
        "colab": {}
      },
      "source": [
        "train_paths = 'DATA SET/2016 PHM DATA CHALLENGE CMP DATA SET/CMP-data/training'\n",
        "test_paths = 'DATA SET/2016 PHM DATA CHALLENGE CMP DATA SET/CMP-data/test'"
      ],
      "execution_count": null,
      "outputs": []
    },
    {
      "cell_type": "code",
      "metadata": {
        "id": "y58q3Ku39Amo",
        "colab_type": "code",
        "colab": {
          "base_uri": "https://localhost:8080/",
          "height": 34
        },
        "outputId": "47d4f71b-1212-4280-b7b3-b2a1589a58e9"
      },
      "source": [
        "train_files = [i for i in glob.glob(train_paths + '/' + '*.csv')]\n",
        "test_files = [i for i in glob.glob(test_paths + '/' + '*.csv')]\n",
        " \n",
        "len(train_files), len(test_files)"
      ],
      "execution_count": null,
      "outputs": [
        {
          "output_type": "execute_result",
          "data": {
            "text/plain": [
              "(185, 185)"
            ]
          },
          "metadata": {
            "tags": []
          },
          "execution_count": 5
        }
      ]
    },
    {
      "cell_type": "code",
      "metadata": {
        "id": "Ltvp3nv78du9",
        "colab_type": "code",
        "colab": {}
      },
      "source": [
        "train_combined = pd.concat([pd.read_csv(f) for f in train_files])\n",
        "test_combined = pd.concat([pd.read_csv(f) for f in test_files])"
      ],
      "execution_count": null,
      "outputs": []
    },
    {
      "cell_type": "code",
      "metadata": {
        "id": "8WpQYFT1DL9_",
        "colab_type": "code",
        "colab": {}
      },
      "source": [
        "train_label = pd.read_csv('./DATA SET/2016 PHM DATA CHALLENGE CMP DATA SET/CMP-training-removalrate.csv')\n",
        "test_label = pd.read_csv('./DATA SET/2016 PHM DATA CHALLENGE CMP DATA SET/orig_CMP-test-removalrate.csv')"
      ],
      "execution_count": null,
      "outputs": []
    },
    {
      "cell_type": "code",
      "metadata": {
        "id": "tGb6tH7qFeyC",
        "colab_type": "code",
        "colab": {
          "base_uri": "https://localhost:8080/",
          "height": 206
        },
        "outputId": "8732d393-90c1-4309-fe19-d6b44843a2e0"
      },
      "source": [
        "train_label.head()"
      ],
      "execution_count": null,
      "outputs": [
        {
          "output_type": "execute_result",
          "data": {
            "text/html": [
              "<div>\n",
              "<style scoped>\n",
              "    .dataframe tbody tr th:only-of-type {\n",
              "        vertical-align: middle;\n",
              "    }\n",
              "\n",
              "    .dataframe tbody tr th {\n",
              "        vertical-align: top;\n",
              "    }\n",
              "\n",
              "    .dataframe thead th {\n",
              "        text-align: right;\n",
              "    }\n",
              "</style>\n",
              "<table border=\"1\" class=\"dataframe\">\n",
              "  <thead>\n",
              "    <tr style=\"text-align: right;\">\n",
              "      <th></th>\n",
              "      <th>WAFER_ID</th>\n",
              "      <th>STAGE</th>\n",
              "      <th>AVG_REMOVAL_RATE</th>\n",
              "    </tr>\n",
              "  </thead>\n",
              "  <tbody>\n",
              "    <tr>\n",
              "      <th>0</th>\n",
              "      <td>-4224160600</td>\n",
              "      <td>A</td>\n",
              "      <td>61.65480</td>\n",
              "    </tr>\n",
              "    <tr>\n",
              "      <th>1</th>\n",
              "      <td>-4224160584</td>\n",
              "      <td>B</td>\n",
              "      <td>75.86415</td>\n",
              "    </tr>\n",
              "    <tr>\n",
              "      <th>2</th>\n",
              "      <td>-4224160580</td>\n",
              "      <td>B</td>\n",
              "      <td>71.90700</td>\n",
              "    </tr>\n",
              "    <tr>\n",
              "      <th>3</th>\n",
              "      <td>-4113511818</td>\n",
              "      <td>A</td>\n",
              "      <td>65.02230</td>\n",
              "    </tr>\n",
              "    <tr>\n",
              "      <th>4</th>\n",
              "      <td>-4113511814</td>\n",
              "      <td>A</td>\n",
              "      <td>58.27905</td>\n",
              "    </tr>\n",
              "  </tbody>\n",
              "</table>\n",
              "</div>"
            ],
            "text/plain": [
              "     WAFER_ID STAGE  AVG_REMOVAL_RATE\n",
              "0 -4224160600     A          61.65480\n",
              "1 -4224160584     B          75.86415\n",
              "2 -4224160580     B          71.90700\n",
              "3 -4113511818     A          65.02230\n",
              "4 -4113511814     A          58.27905"
            ]
          },
          "metadata": {
            "tags": []
          },
          "execution_count": 8
        }
      ]
    },
    {
      "cell_type": "code",
      "metadata": {
        "id": "T3q608FPc4xW",
        "colab_type": "code",
        "colab": {
          "base_uri": "https://localhost:8080/",
          "height": 206
        },
        "outputId": "2ab48cdd-4951-4801-8b37-f3eefb8dbfef"
      },
      "source": [
        "test_label.head()"
      ],
      "execution_count": null,
      "outputs": [
        {
          "output_type": "execute_result",
          "data": {
            "text/html": [
              "<div>\n",
              "<style scoped>\n",
              "    .dataframe tbody tr th:only-of-type {\n",
              "        vertical-align: middle;\n",
              "    }\n",
              "\n",
              "    .dataframe tbody tr th {\n",
              "        vertical-align: top;\n",
              "    }\n",
              "\n",
              "    .dataframe thead th {\n",
              "        text-align: right;\n",
              "    }\n",
              "</style>\n",
              "<table border=\"1\" class=\"dataframe\">\n",
              "  <thead>\n",
              "    <tr style=\"text-align: right;\">\n",
              "      <th></th>\n",
              "      <th>WAFER_ID</th>\n",
              "      <th>STAGE</th>\n",
              "      <th>AVG_REMOVAL_RATE</th>\n",
              "    </tr>\n",
              "  </thead>\n",
              "  <tbody>\n",
              "    <tr>\n",
              "      <th>0</th>\n",
              "      <td>-4224160678</td>\n",
              "      <td>B</td>\n",
              "      <td>66.9813</td>\n",
              "    </tr>\n",
              "    <tr>\n",
              "      <th>1</th>\n",
              "      <td>-4224160592</td>\n",
              "      <td>A</td>\n",
              "      <td>56.1786</td>\n",
              "    </tr>\n",
              "    <tr>\n",
              "      <th>2</th>\n",
              "      <td>-887170152</td>\n",
              "      <td>B</td>\n",
              "      <td>64.3881</td>\n",
              "    </tr>\n",
              "    <tr>\n",
              "      <th>3</th>\n",
              "      <td>373446766</td>\n",
              "      <td>A</td>\n",
              "      <td>153.2610</td>\n",
              "    </tr>\n",
              "    <tr>\n",
              "      <th>4</th>\n",
              "      <td>-4224160686</td>\n",
              "      <td>A</td>\n",
              "      <td>57.2523</td>\n",
              "    </tr>\n",
              "  </tbody>\n",
              "</table>\n",
              "</div>"
            ],
            "text/plain": [
              "     WAFER_ID STAGE  AVG_REMOVAL_RATE\n",
              "0 -4224160678     B           66.9813\n",
              "1 -4224160592     A           56.1786\n",
              "2  -887170152     B           64.3881\n",
              "3   373446766     A          153.2610\n",
              "4 -4224160686     A           57.2523"
            ]
          },
          "metadata": {
            "tags": []
          },
          "execution_count": 9
        }
      ]
    },
    {
      "cell_type": "code",
      "metadata": {
        "id": "UUVFkjBZFsvx",
        "colab_type": "code",
        "colab": {}
      },
      "source": [
        "train = pd.merge(train_combined, train_label, on=['WAFER_ID', 'STAGE'], how='inner')\n",
        "test = pd.merge(test_combined, test_label, on=['WAFER_ID', 'STAGE'], how='inner')"
      ],
      "execution_count": null,
      "outputs": []
    },
    {
      "cell_type": "code",
      "metadata": {
        "id": "H2MAe8T6iENT",
        "colab_type": "code",
        "colab": {
          "base_uri": "https://localhost:8080/",
          "height": 34
        },
        "outputId": "6cc8967e-4aa9-4e9c-c93b-d9e99b20c694"
      },
      "source": [
        "train.shape, test.shape"
      ],
      "execution_count": null,
      "outputs": [
        {
          "output_type": "execute_result",
          "data": {
            "text/plain": [
              "((671422, 26), (156262, 26))"
            ]
          },
          "metadata": {
            "tags": []
          },
          "execution_count": 77
        }
      ]
    },
    {
      "cell_type": "code",
      "metadata": {
        "id": "zbrfCxtfQCGC",
        "colab_type": "code",
        "colab": {
          "base_uri": "https://localhost:8080/",
          "height": 173
        },
        "outputId": "0eb2b18b-82dd-4bde-f094-a44f0d7133a6"
      },
      "source": [
        "# Detecting Outliers Train\n",
        "train['AVG_REMOVAL_RATE'].describe()"
      ],
      "execution_count": null,
      "outputs": [
        {
          "output_type": "execute_result",
          "data": {
            "text/plain": [
              "count    672744.000000\n",
              "mean         95.821890\n",
              "std         184.589539\n",
              "min          53.426550\n",
              "25%          72.117750\n",
              "50%          78.318900\n",
              "75%          87.109950\n",
              "max        4326.154050\n",
              "Name: AVG_REMOVAL_RATE, dtype: float64"
            ]
          },
          "metadata": {
            "tags": []
          },
          "execution_count": 11
        }
      ]
    },
    {
      "cell_type": "code",
      "metadata": {
        "id": "ufTKfMHQQxxR",
        "colab_type": "code",
        "colab": {}
      },
      "source": [
        "train = train[train['AVG_REMOVAL_RATE'] <= 3000]"
      ],
      "execution_count": null,
      "outputs": []
    },
    {
      "cell_type": "code",
      "metadata": {
        "id": "9D4ll1L9Q3OE",
        "colab_type": "code",
        "colab": {
          "base_uri": "https://localhost:8080/",
          "height": 34
        },
        "outputId": "64a0c27f-7c11-4dc7-f35d-7d5f97136ada"
      },
      "source": [
        "len(train), len(test)"
      ],
      "execution_count": null,
      "outputs": [
        {
          "output_type": "execute_result",
          "data": {
            "text/plain": [
              "(671422, 156262)"
            ]
          },
          "metadata": {
            "tags": []
          },
          "execution_count": 13
        }
      ]
    },
    {
      "cell_type": "code",
      "metadata": {
        "id": "pc7Da3XiQ9m8",
        "colab_type": "code",
        "colab": {
          "base_uri": "https://localhost:8080/",
          "height": 282
        },
        "outputId": "6f096565-0084-4269-bcbb-aa2e4642bb0b"
      },
      "source": [
        "train['AVG_REMOVAL_RATE'].hist()"
      ],
      "execution_count": null,
      "outputs": [
        {
          "output_type": "execute_result",
          "data": {
            "text/plain": [
              "<matplotlib.axes._subplots.AxesSubplot at 0x7f66c0a41a20>"
            ]
          },
          "metadata": {
            "tags": []
          },
          "execution_count": 14
        },
        {
          "output_type": "display_data",
          "data": {
            "image/png": "[encoded data removed]",
            "text/plain": [
              "<Figure size 432x288 with 1 Axes>"
            ]
          },
          "metadata": {
            "tags": [],
            "needs_background": "light"
          }
        }
      ]
    },
    {
      "cell_type": "code",
      "metadata": {
        "id": "KT5yKpnKtINM",
        "colab_type": "code",
        "colab": {
          "base_uri": "https://localhost:8080/",
          "height": 590
        },
        "outputId": "d9aa9c0b-2231-415b-f904-f84b8260f9ab"
      },
      "source": [
        "train.info()"
      ],
      "execution_count": null,
      "outputs": [
        {
          "output_type": "stream",
          "text": [
            "<class 'pandas.core.frame.DataFrame'>\n",
            "Int64Index: 671422 entries, 0 to 672743\n",
            "Data columns (total 26 columns):\n",
            " #   Column                        Non-Null Count   Dtype  \n",
            "---  ------                        --------------   -----  \n",
            " 0   MACHINE_ID                    671422 non-null  object \n",
            " 1   MACHINE_DATA                  671422 non-null  object \n",
            " 2   TIMESTAMP                     671422 non-null  float64\n",
            " 3   WAFER_ID                      671422 non-null  object \n",
            " 4   STAGE                         671422 non-null  object \n",
            " 5   CHAMBER                       671422 non-null  float64\n",
            " 6   USAGE_OF_BACKING_FILM         671422 non-null  float64\n",
            " 7   USAGE_OF_DRESSER              671422 non-null  float64\n",
            " 8   USAGE_OF_POLISHING_TABLE      671422 non-null  float64\n",
            " 9   USAGE_OF_DRESSER_TABLE        671422 non-null  float64\n",
            " 10  PRESSURIZED_CHAMBER_PRESSURE  671422 non-null  float64\n",
            " 11  MAIN_OUTER_AIR_BAG_PRESSURE   671422 non-null  float64\n",
            " 12  CENTER_AIR_BAG_PRESSURE       671422 non-null  float64\n",
            " 13  RETAINER_RING_PRESSURE        671422 non-null  float64\n",
            " 14  RIPPLE_AIR_BAG_PRESSURE       671422 non-null  float64\n",
            " 15  USAGE_OF_MEMBRANE             671422 non-null  float64\n",
            " 16  USAGE_OF_PRESSURIZED_SHEET    671422 non-null  float64\n",
            " 17  SLURRY_FLOW_LINE_A            671422 non-null  float64\n",
            " 18  SLURRY_FLOW_LINE_B            671422 non-null  float64\n",
            " 19  SLURRY_FLOW_LINE_C            671422 non-null  float64\n",
            " 20  WAFER_ROTATION                671422 non-null  float64\n",
            " 21  STAGE_ROTATION                671422 non-null  float64\n",
            " 22  HEAD_ROTATION                 671422 non-null  float64\n",
            " 23  DRESSING_WATER_STATUS         671422 non-null  float64\n",
            " 24  EDGE_AIR_BAG_PRESSURE         671422 non-null  float64\n",
            " 25  AVG_REMOVAL_RATE              671422 non-null  float64\n",
            "dtypes: float64(22), object(4)\n",
            "memory usage: 138.3+ MB\n"
          ],
          "name": "stdout"
        }
      ]
    },
    {
      "cell_type": "code",
      "metadata": {
        "id": "ptGK_T4DRuMH",
        "colab_type": "code",
        "colab": {}
      },
      "source": [
        "# Splitting Train Data into Two based on CHAMBERS\n",
        " \n",
        "train_120u = train[train['CHAMBER'] <= 3]\n",
        "train_120d = train[train['CHAMBER'] >= 4]\n",
        " \n",
        "# Splitting Test Data\n",
        "test_120u = test[test['CHAMBER'] <= 3]\n",
        "test_120d = test[test['CHAMBER'] >= 4]"
      ],
      "execution_count": null,
      "outputs": []
    },
    {
      "cell_type": "code",
      "metadata": {
        "id": "95Zvp1DMHyHz",
        "colab_type": "code",
        "colab": {}
      },
      "source": [
        "# Rolling apply function \n",
        " \n",
        "def roll(df):\n",
        "  \"\"\" Feature Engineering \"\"\"\n",
        "  df = df.sort_values(by=['TIMESTAMP'])\n",
        "  columns = [i for i in df.columns if i != 'AVG_REMOVAL_RATE'][5:]\n",
        "  for col in columns:\n",
        "    df['rolling_mean_'+col] = df.groupby(['WAFER_ID', 'STAGE'])[col].rolling(10).mean().reset_index(drop=True)\n",
        "    df['rolling_median_'+col] = df.groupby(['WAFER_ID', 'STAGE'])[col].rolling(10).median().reset_index(drop=True)\n",
        "    df['rolling_std_'+col] = df.groupby(['WAFER_ID', 'STAGE'])[col].rolling(10).std().reset_index(drop=True)\n",
        "    # df['sd0_'+col] = pd.Series([sd for sd in df['rolling_std_'+col].values if sd >= 0])\n",
        "    print(\"Column {} done!\".format(col))\n",
        "  \n",
        "  df.dropna(axis=0, inplace=True)\n",
        "  print('Complete!!!')\n",
        " \n",
        "  return df"
      ],
      "execution_count": null,
      "outputs": []
    },
    {
      "cell_type": "markdown",
      "metadata": {
        "id": "wZVRj4ZQBMLk",
        "colab_type": "text"
      },
      "source": [
        "## 120D"
      ]
    },
    {
      "cell_type": "code",
      "metadata": {
        "id": "0baYXHd2quAM",
        "colab_type": "code",
        "colab": {}
      },
      "source": [
        "train_120d = pd.get_dummies(train_120d, columns=['CHAMBER'])\n",
        "test_120d = pd.get_dummies(test_120d, columns=['CHAMBER'])"
      ],
      "execution_count": null,
      "outputs": []
    },
    {
      "cell_type": "code",
      "metadata": {
        "id": "PuXlZ2pKIyR0",
        "colab_type": "code",
        "colab": {
          "base_uri": "https://localhost:8080/",
          "height": 34
        },
        "outputId": "99b55b49-54ae-4e05-d7b2-932bc3b10c72"
      },
      "source": [
        "len(train_120d), len(test_120d)"
      ],
      "execution_count": null,
      "outputs": [
        {
          "output_type": "execute_result",
          "data": {
            "text/plain": [
              "(570023, 136265)"
            ]
          },
          "metadata": {
            "tags": []
          },
          "execution_count": 140
        }
      ]
    },
    {
      "cell_type": "code",
      "metadata": {
        "id": "ohExP4kVchaR",
        "colab_type": "code",
        "colab": {
          "base_uri": "https://localhost:8080/",
          "height": 416
        },
        "outputId": "7209f112-21f0-4580-e54a-7c4ab72e4a01"
      },
      "source": [
        "train_120d = roll(train_120d)"
      ],
      "execution_count": null,
      "outputs": [
        {
          "output_type": "stream",
          "text": [
            "Column USAGE_OF_BACKING_FILM done!\n",
            "Column USAGE_OF_DRESSER done!\n",
            "Column USAGE_OF_POLISHING_TABLE done!\n",
            "Column USAGE_OF_DRESSER_TABLE done!\n",
            "Column PRESSURIZED_CHAMBER_PRESSURE done!\n",
            "Column MAIN_OUTER_AIR_BAG_PRESSURE done!\n",
            "Column CENTER_AIR_BAG_PRESSURE done!\n",
            "Column RETAINER_RING_PRESSURE done!\n",
            "Column RIPPLE_AIR_BAG_PRESSURE done!\n",
            "Column USAGE_OF_MEMBRANE done!\n",
            "Column USAGE_OF_PRESSURIZED_SHEET done!\n",
            "Column SLURRY_FLOW_LINE_A done!\n",
            "Column SLURRY_FLOW_LINE_B done!\n",
            "Column SLURRY_FLOW_LINE_C done!\n",
            "Column WAFER_ROTATION done!\n",
            "Column STAGE_ROTATION done!\n",
            "Column HEAD_ROTATION done!\n",
            "Column DRESSING_WATER_STATUS done!\n",
            "Column EDGE_AIR_BAG_PRESSURE done!\n",
            "Column CHAMBER_4.0 done!\n",
            "Column CHAMBER_5.0 done!\n",
            "Column CHAMBER_6.0 done!\n",
            "Complete!!!\n"
          ],
          "name": "stdout"
        }
      ]
    },
    {
      "cell_type": "code",
      "metadata": {
        "id": "Wag1KWeaIcC2",
        "colab_type": "code",
        "colab": {
          "base_uri": "https://localhost:8080/",
          "height": 416
        },
        "outputId": "d90c9e06-d295-43bb-feef-242f8a644290"
      },
      "source": [
        "test_120d = roll(test_120d)"
      ],
      "execution_count": null,
      "outputs": [
        {
          "output_type": "stream",
          "text": [
            "Column USAGE_OF_BACKING_FILM done!\n",
            "Column USAGE_OF_DRESSER done!\n",
            "Column USAGE_OF_POLISHING_TABLE done!\n",
            "Column USAGE_OF_DRESSER_TABLE done!\n",
            "Column PRESSURIZED_CHAMBER_PRESSURE done!\n",
            "Column MAIN_OUTER_AIR_BAG_PRESSURE done!\n",
            "Column CENTER_AIR_BAG_PRESSURE done!\n",
            "Column RETAINER_RING_PRESSURE done!\n",
            "Column RIPPLE_AIR_BAG_PRESSURE done!\n",
            "Column USAGE_OF_MEMBRANE done!\n",
            "Column USAGE_OF_PRESSURIZED_SHEET done!\n",
            "Column SLURRY_FLOW_LINE_A done!\n",
            "Column SLURRY_FLOW_LINE_B done!\n",
            "Column SLURRY_FLOW_LINE_C done!\n",
            "Column WAFER_ROTATION done!\n",
            "Column STAGE_ROTATION done!\n",
            "Column HEAD_ROTATION done!\n",
            "Column DRESSING_WATER_STATUS done!\n",
            "Column EDGE_AIR_BAG_PRESSURE done!\n",
            "Column CHAMBER_4.0 done!\n",
            "Column CHAMBER_5.0 done!\n",
            "Column CHAMBER_6.0 done!\n",
            "Complete!!!\n"
          ],
          "name": "stdout"
        }
      ]
    },
    {
      "cell_type": "code",
      "metadata": {
        "id": "TdHQuLGpj4CC",
        "colab_type": "code",
        "colab": {
          "base_uri": "https://localhost:8080/",
          "height": 1000
        },
        "outputId": "47fab4c7-dffd-4c2f-a511-492f2abfd228"
      },
      "source": [
        "test_120d.info()"
      ],
      "execution_count": null,
      "outputs": [
        {
          "output_type": "stream",
          "text": [
            "<class 'pandas.core.frame.DataFrame'>\n",
            "Int64Index: 116800 entries, 281 to 136264\n",
            "Data columns (total 94 columns):\n",
            " #   Column                                       Non-Null Count   Dtype  \n",
            "---  ------                                       --------------   -----  \n",
            " 0   MACHINE_ID                                   116800 non-null  object \n",
            " 1   MACHINE_DATA                                 116800 non-null  object \n",
            " 2   TIMESTAMP                                    116800 non-null  float64\n",
            " 3   WAFER_ID                                     116800 non-null  object \n",
            " 4   STAGE                                        116800 non-null  object \n",
            " 5   USAGE_OF_BACKING_FILM                        116800 non-null  float64\n",
            " 6   USAGE_OF_DRESSER                             116800 non-null  float64\n",
            " 7   USAGE_OF_POLISHING_TABLE                     116800 non-null  float64\n",
            " 8   USAGE_OF_DRESSER_TABLE                       116800 non-null  float64\n",
            " 9   PRESSURIZED_CHAMBER_PRESSURE                 116800 non-null  float64\n",
            " 10  MAIN_OUTER_AIR_BAG_PRESSURE                  116800 non-null  float64\n",
            " 11  CENTER_AIR_BAG_PRESSURE                      116800 non-null  float64\n",
            " 12  RETAINER_RING_PRESSURE                       116800 non-null  float64\n",
            " 13  RIPPLE_AIR_BAG_PRESSURE                      116800 non-null  float64\n",
            " 14  USAGE_OF_MEMBRANE                            116800 non-null  float64\n",
            " 15  USAGE_OF_PRESSURIZED_SHEET                   116800 non-null  float64\n",
            " 16  SLURRY_FLOW_LINE_A                           116800 non-null  float64\n",
            " 17  SLURRY_FLOW_LINE_B                           116800 non-null  float64\n",
            " 18  SLURRY_FLOW_LINE_C                           116800 non-null  float64\n",
            " 19  WAFER_ROTATION                               116800 non-null  float64\n",
            " 20  STAGE_ROTATION                               116800 non-null  float64\n",
            " 21  HEAD_ROTATION                                116800 non-null  float64\n",
            " 22  DRESSING_WATER_STATUS                        116800 non-null  float64\n",
            " 23  EDGE_AIR_BAG_PRESSURE                        116800 non-null  float64\n",
            " 24  AVG_REMOVAL_RATE                             116800 non-null  float64\n",
            " 25  CHAMBER_4.0                                  116800 non-null  uint8  \n",
            " 26  CHAMBER_5.0                                  116800 non-null  uint8  \n",
            " 27  CHAMBER_6.0                                  116800 non-null  uint8  \n",
            " 28  rolling_mean_USAGE_OF_BACKING_FILM           116800 non-null  float64\n",
            " 29  rolling_median_USAGE_OF_BACKING_FILM         116800 non-null  float64\n",
            " 30  rolling_std_USAGE_OF_BACKING_FILM            116800 non-null  float64\n",
            " 31  rolling_mean_USAGE_OF_DRESSER                116800 non-null  float64\n",
            " 32  rolling_median_USAGE_OF_DRESSER              116800 non-null  float64\n",
            " 33  rolling_std_USAGE_OF_DRESSER                 116800 non-null  float64\n",
            " 34  rolling_mean_USAGE_OF_POLISHING_TABLE        116800 non-null  float64\n",
            " 35  rolling_median_USAGE_OF_POLISHING_TABLE      116800 non-null  float64\n",
            " 36  rolling_std_USAGE_OF_POLISHING_TABLE         116800 non-null  float64\n",
            " 37  rolling_mean_USAGE_OF_DRESSER_TABLE          116800 non-null  float64\n",
            " 38  rolling_median_USAGE_OF_DRESSER_TABLE        116800 non-null  float64\n",
            " 39  rolling_std_USAGE_OF_DRESSER_TABLE           116800 non-null  float64\n",
            " 40  rolling_mean_PRESSURIZED_CHAMBER_PRESSURE    116800 non-null  float64\n",
            " 41  rolling_median_PRESSURIZED_CHAMBER_PRESSURE  116800 non-null  float64\n",
            " 42  rolling_std_PRESSURIZED_CHAMBER_PRESSURE     116800 non-null  float64\n",
            " 43  rolling_mean_MAIN_OUTER_AIR_BAG_PRESSURE     116800 non-null  float64\n",
            " 44  rolling_median_MAIN_OUTER_AIR_BAG_PRESSURE   116800 non-null  float64\n",
            " 45  rolling_std_MAIN_OUTER_AIR_BAG_PRESSURE      116800 non-null  float64\n",
            " 46  rolling_mean_CENTER_AIR_BAG_PRESSURE         116800 non-null  float64\n",
            " 47  rolling_median_CENTER_AIR_BAG_PRESSURE       116800 non-null  float64\n",
            " 48  rolling_std_CENTER_AIR_BAG_PRESSURE          116800 non-null  float64\n",
            " 49  rolling_mean_RETAINER_RING_PRESSURE          116800 non-null  float64\n",
            " 50  rolling_median_RETAINER_RING_PRESSURE        116800 non-null  float64\n",
            " 51  rolling_std_RETAINER_RING_PRESSURE           116800 non-null  float64\n",
            " 52  rolling_mean_RIPPLE_AIR_BAG_PRESSURE         116800 non-null  float64\n",
            " 53  rolling_median_RIPPLE_AIR_BAG_PRESSURE       116800 non-null  float64\n",
            " 54  rolling_std_RIPPLE_AIR_BAG_PRESSURE          116800 non-null  float64\n",
            " 55  rolling_mean_USAGE_OF_MEMBRANE               116800 non-null  float64\n",
            " 56  rolling_median_USAGE_OF_MEMBRANE             116800 non-null  float64\n",
            " 57  rolling_std_USAGE_OF_MEMBRANE                116800 non-null  float64\n",
            " 58  rolling_mean_USAGE_OF_PRESSURIZED_SHEET      116800 non-null  float64\n",
            " 59  rolling_median_USAGE_OF_PRESSURIZED_SHEET    116800 non-null  float64\n",
            " 60  rolling_std_USAGE_OF_PRESSURIZED_SHEET       116800 non-null  float64\n",
            " 61  rolling_mean_SLURRY_FLOW_LINE_A              116800 non-null  float64\n",
            " 62  rolling_median_SLURRY_FLOW_LINE_A            116800 non-null  float64\n",
            " 63  rolling_std_SLURRY_FLOW_LINE_A               116800 non-null  float64\n",
            " 64  rolling_mean_SLURRY_FLOW_LINE_B              116800 non-null  float64\n",
            " 65  rolling_median_SLURRY_FLOW_LINE_B            116800 non-null  float64\n",
            " 66  rolling_std_SLURRY_FLOW_LINE_B               116800 non-null  float64\n",
            " 67  rolling_mean_SLURRY_FLOW_LINE_C              116800 non-null  float64\n",
            " 68  rolling_median_SLURRY_FLOW_LINE_C            116800 non-null  float64\n",
            " 69  rolling_std_SLURRY_FLOW_LINE_C               116800 non-null  float64\n",
            " 70  rolling_mean_WAFER_ROTATION                  116800 non-null  float64\n",
            " 71  rolling_median_WAFER_ROTATION                116800 non-null  float64\n",
            " 72  rolling_std_WAFER_ROTATION                   116800 non-null  float64\n",
            " 73  rolling_mean_STAGE_ROTATION                  116800 non-null  float64\n",
            " 74  rolling_median_STAGE_ROTATION                116800 non-null  float64\n",
            " 75  rolling_std_STAGE_ROTATION                   116800 non-null  float64\n",
            " 76  rolling_mean_HEAD_ROTATION                   116800 non-null  float64\n",
            " 77  rolling_median_HEAD_ROTATION                 116800 non-null  float64\n",
            " 78  rolling_std_HEAD_ROTATION                    116800 non-null  float64\n",
            " 79  rolling_mean_DRESSING_WATER_STATUS           116800 non-null  float64\n",
            " 80  rolling_median_DRESSING_WATER_STATUS         116800 non-null  float64\n",
            " 81  rolling_std_DRESSING_WATER_STATUS            116800 non-null  float64\n",
            " 82  rolling_mean_EDGE_AIR_BAG_PRESSURE           116800 non-null  float64\n",
            " 83  rolling_median_EDGE_AIR_BAG_PRESSURE         116800 non-null  float64\n",
            " 84  rolling_std_EDGE_AIR_BAG_PRESSURE            116800 non-null  float64\n",
            " 85  rolling_mean_CHAMBER_4.0                     116800 non-null  float64\n",
            " 86  rolling_median_CHAMBER_4.0                   116800 non-null  float64\n",
            " 87  rolling_std_CHAMBER_4.0                      116800 non-null  float64\n",
            " 88  rolling_mean_CHAMBER_5.0                     116800 non-null  float64\n",
            " 89  rolling_median_CHAMBER_5.0                   116800 non-null  float64\n",
            " 90  rolling_std_CHAMBER_5.0                      116800 non-null  float64\n",
            " 91  rolling_mean_CHAMBER_6.0                     116800 non-null  float64\n",
            " 92  rolling_median_CHAMBER_6.0                   116800 non-null  float64\n",
            " 93  rolling_std_CHAMBER_6.0                      116800 non-null  float64\n",
            "dtypes: float64(87), object(4), uint8(3)\n",
            "memory usage: 82.3+ MB\n"
          ],
          "name": "stdout"
        }
      ]
    },
    {
      "cell_type": "code",
      "metadata": {
        "id": "a5bzJHLOFNSj",
        "colab_type": "code",
        "colab": {
          "base_uri": "https://localhost:8080/",
          "height": 34
        },
        "outputId": "dea07f10-5a85-4b46-b9f2-e3bf8b894bef"
      },
      "source": [
        "len(train_120d), len(test_120d)"
      ],
      "execution_count": null,
      "outputs": [
        {
          "output_type": "execute_result",
          "data": {
            "text/plain": [
              "(470265, 116800)"
            ]
          },
          "metadata": {
            "tags": []
          },
          "execution_count": 144
        }
      ]
    },
    {
      "cell_type": "code",
      "metadata": {
        "id": "JdXFkplV502T",
        "colab_type": "code",
        "colab": {}
      },
      "source": [
        "\n",
        "# to be used later while saving predictions \n",
        "\n",
        "wafer_120d = test_120d['WAFER_ID']\n",
        "stage_120d = test_120d['STAGE']"
      ],
      "execution_count": null,
      "outputs": []
    },
    {
      "cell_type": "markdown",
      "metadata": {
        "id": "PpaAoMwW5Ytn",
        "colab_type": "text"
      },
      "source": [
        "### Feature scaling and Model training"
      ]
    },
    {
      "cell_type": "code",
      "metadata": {
        "id": "K4L3CHr-q4Pt",
        "colab_type": "code",
        "colab": {
          "base_uri": "https://localhost:8080/",
          "height": 34
        },
        "outputId": "869e2ba4-bd6c-44c0-d75f-61b7764c0722"
      },
      "source": [
        "train_120d.shape"
      ],
      "execution_count": null,
      "outputs": [
        {
          "output_type": "execute_result",
          "data": {
            "text/plain": [
              "(470265, 94)"
            ]
          },
          "metadata": {
            "tags": []
          },
          "execution_count": 88
        }
      ]
    },
    {
      "cell_type": "code",
      "metadata": {
        "id": "Jac4ikT2WQJi",
        "colab_type": "code",
        "colab": {
          "base_uri": "https://localhost:8080/",
          "height": 34
        },
        "outputId": "f964b4b9-6be9-41a4-dfd5-adfd7705a0dc"
      },
      "source": [
        "test_120d.shape"
      ],
      "execution_count": null,
      "outputs": [
        {
          "output_type": "execute_result",
          "data": {
            "text/plain": [
              "(116800, 94)"
            ]
          },
          "metadata": {
            "tags": []
          },
          "execution_count": 89
        }
      ]
    },
    {
      "cell_type": "code",
      "metadata": {
        "id": "YYWYhyfiTPI0",
        "colab_type": "code",
        "colab": {}
      },
      "source": [
        "label_train = train_120d['AVG_REMOVAL_RATE']\n",
        "train_120d = train_120d.drop(['AVG_REMOVAL_RATE', 'STAGE', 'TIMESTAMP'], axis=1)\n",
        " \n",
        "label_test = test_120d['AVG_REMOVAL_RATE']\n",
        "test_120d = test_120d.drop(['AVG_REMOVAL_RATE', 'STAGE', 'TIMESTAMP'], axis=1)"
      ],
      "execution_count": null,
      "outputs": []
    },
    {
      "cell_type": "code",
      "metadata": {
        "id": "cPRDztnpPDuO",
        "colab_type": "code",
        "colab": {}
      },
      "source": [
        "train_120d = train_120d.to_numpy()\n",
        "test_120d = test_120d.to_numpy()"
      ],
      "execution_count": null,
      "outputs": []
    },
    {
      "cell_type": "code",
      "metadata": {
        "id": "JehKsrLx7w_b",
        "colab_type": "code",
        "colab": {}
      },
      "source": [
        "def feature_scaling(train_df, test_df):\n",
        "    \"\"\" Feature Scaling \"\"\"\n",
        "    train_df = np.reshape(train_df,(train_df.shape[0], train_df.shape[1]))\n",
        "    a= np.zeros((train_df.shape[0], 1))\n",
        "    for i in range(train_df.shape[1]):\n",
        "        X_scaled = preprocessing.scale(train_df[:,i])\n",
        "        X_scaled = np.reshape(X_scaled,(train_df.shape[0],1))\n",
        "        a = np.hstack((a,X_scaled))\n",
        "    train_df = np.delete(a, (0), axis=1)\n",
        " \n",
        " \n",
        "    test_df = np.reshape(test_df,(test_df.shape[0], test_df.shape[1]))\n",
        "    a= np.zeros((test_df.shape[0], 1))\n",
        "    for i in range(test_df.shape[1]):\n",
        "        X_scaled = preprocessing.scale(test_df[:,i])\n",
        "        X_scaled = np.reshape(X_scaled,(test_df.shape[0], 1))\n",
        "        a = np.hstack((a,X_scaled))\n",
        "    test_df = np.delete(a, (0), axis=1)\n",
        "    \n",
        "    return train_df, test_df"
      ],
      "execution_count": null,
      "outputs": []
    },
    {
      "cell_type": "code",
      "metadata": {
        "id": "8K93Rxi29zsl",
        "colab_type": "code",
        "colab": {
          "base_uri": "https://localhost:8080/",
          "height": 106
        },
        "outputId": "92d16f8e-7296-494c-9392-887a9c0faeb5"
      },
      "source": [
        "train_120d, test_120d = feature_scaling(train_120d, test_120d)"
      ],
      "execution_count": null,
      "outputs": [
        {
          "output_type": "stream",
          "text": [
            "/usr/local/lib/python3.6/dist-packages/sklearn/preprocessing/_data.py:173: UserWarning: Numerical issues were encountered when centering the data and might not be solved. Dataset may contain too large values. You may need to prescale your features.\n",
            "  warnings.warn(\"Numerical issues were encountered \"\n",
            "/usr/local/lib/python3.6/dist-packages/sklearn/preprocessing/_data.py:173: UserWarning: Numerical issues were encountered when centering the data and might not be solved. Dataset may contain too large values. You may need to prescale your features.\n",
            "  warnings.warn(\"Numerical issues were encountered \"\n"
          ],
          "name": "stderr"
        }
      ]
    },
    {
      "cell_type": "code",
      "metadata": {
        "id": "UTYF5fgloYMO",
        "colab_type": "code",
        "colab": {
          "base_uri": "https://localhost:8080/",
          "height": 34
        },
        "outputId": "554dc176-4d98-433a-f30e-ff39ce991a43"
      },
      "source": [
        "test_120d.shape"
      ],
      "execution_count": null,
      "outputs": [
        {
          "output_type": "execute_result",
          "data": {
            "text/plain": [
              "(116800, 91)"
            ]
          },
          "metadata": {
            "tags": []
          },
          "execution_count": 94
        }
      ]
    },
    {
      "cell_type": "code",
      "metadata": {
        "id": "wK2iprjNkvhm",
        "colab_type": "code",
        "colab": {
          "base_uri": "https://localhost:8080/",
          "height": 34
        },
        "outputId": "004c352a-4f0d-4ca3-e44b-bc3f95a6f02a"
      },
      "source": [
        "test_120d.dtype"
      ],
      "execution_count": null,
      "outputs": [
        {
          "output_type": "execute_result",
          "data": {
            "text/plain": [
              "dtype('float64')"
            ]
          },
          "metadata": {
            "tags": []
          },
          "execution_count": 95
        }
      ]
    },
    {
      "cell_type": "markdown",
      "metadata": {
        "id": "_Xnw2cwdJOhl",
        "colab_type": "text"
      },
      "source": [
        "# Model Training"
      ]
    },
    {
      "cell_type": "code",
      "metadata": {
        "id": "mRrqUUnmIX4h",
        "colab_type": "code",
        "colab": {}
      },
      "source": [
        "# define rmse loss function\n",
        "def root_mean_squared_error(y_true, y_pred):\n",
        "    return K.sqrt(K.mean(K.square(y_pred - y_true))) \n",
        " \n",
        "# define base model\n",
        "def baseline_model():\n",
        "    # create model\n",
        "    model = Sequential()\n",
        "    model.add(Dense(91, input_dim=91, kernel_initializer='normal', activation='relu'))\n",
        "    model.add(Dense(1, kernel_initializer='normal'))\n",
        "    \n",
        "    # Compile model  \n",
        "    model.compile(loss='mean_squared_error', optimizer='adam', metrics=['mse', root_mean_squared_error])\n",
        "    \n",
        "    return model"
      ],
      "execution_count": null,
      "outputs": []
    },
    {
      "cell_type": "markdown",
      "metadata": {
        "id": "A6Hljh0ZEexM",
        "colab_type": "text"
      },
      "source": [
        "### train_120d model training and evaluation on test_120d"
      ]
    },
    {
      "cell_type": "code",
      "metadata": {
        "id": "qG21wg23d8oo",
        "colab_type": "code",
        "colab": {
          "base_uri": "https://localhost:8080/",
          "height": 1000
        },
        "outputId": "dbbeca9f-f232-44b3-fb8b-771266e72c48"
      },
      "source": [
        "# evaluate model\n",
        "estimator = KerasRegressor(build_fn=baseline_model, epochs=20, batch_size=15, verbose=2)\n",
        " \n",
        "results = cross_val_score(estimator, train_120d, label_train, cv=2)\n",
        "print(\"Baseline: %.2f (%.2f) MSE\" % (results.mean(), results.std()))"
      ],
      "execution_count": null,
      "outputs": [
        {
          "output_type": "stream",
          "text": [
            "Epoch 1/20\n",
            " - 51s - loss: 114.2674 - mse: 114.2676 - root_mean_squared_error: 7.5706\n",
            "Epoch 2/20\n",
            " - 51s - loss: 30.5633 - mse: 30.5633 - root_mean_squared_error: 5.4221\n",
            "Epoch 3/20\n",
            " - 52s - loss: 27.4203 - mse: 27.4202 - root_mean_squared_error: 5.1336\n",
            "Epoch 4/20\n",
            " - 51s - loss: 25.2094 - mse: 25.2094 - root_mean_squared_error: 4.9199\n",
            "Epoch 5/20\n",
            " - 51s - loss: 23.5248 - mse: 23.5248 - root_mean_squared_error: 4.7525\n",
            "Epoch 6/20\n",
            " - 50s - loss: 22.4805 - mse: 22.4805 - root_mean_squared_error: 4.6444\n",
            "Epoch 7/20\n",
            " - 50s - loss: 21.7735 - mse: 21.7735 - root_mean_squared_error: 4.5702\n",
            "Epoch 8/20\n",
            " - 50s - loss: 20.9526 - mse: 20.9526 - root_mean_squared_error: 4.4828\n",
            "Epoch 9/20\n",
            " - 51s - loss: 19.8088 - mse: 19.8088 - root_mean_squared_error: 4.3586\n",
            "Epoch 10/20\n",
            " - 51s - loss: 18.9594 - mse: 18.9594 - root_mean_squared_error: 4.2637\n",
            "Epoch 11/20\n",
            " - 51s - loss: 18.1844 - mse: 18.1844 - root_mean_squared_error: 4.1753\n",
            "Epoch 12/20\n",
            " - 51s - loss: 17.3211 - mse: 17.3211 - root_mean_squared_error: 4.0737\n",
            "Epoch 13/20\n",
            " - 50s - loss: 16.4719 - mse: 16.4720 - root_mean_squared_error: 3.9703\n",
            "Epoch 14/20\n",
            " - 50s - loss: 15.8952 - mse: 15.8952 - root_mean_squared_error: 3.9010\n",
            "Epoch 15/20\n",
            " - 52s - loss: 15.3793 - mse: 15.3793 - root_mean_squared_error: 3.8342\n",
            "Epoch 16/20\n",
            " - 51s - loss: 14.9890 - mse: 14.9890 - root_mean_squared_error: 3.7875\n",
            "Epoch 17/20\n",
            " - 51s - loss: 14.6345 - mse: 14.6346 - root_mean_squared_error: 3.7389\n",
            "Epoch 18/20\n",
            " - 51s - loss: 14.3632 - mse: 14.3631 - root_mean_squared_error: 3.7054\n",
            "Epoch 19/20\n",
            " - 51s - loss: 14.1037 - mse: 14.1037 - root_mean_squared_error: 3.6687\n",
            "Epoch 20/20\n",
            " - 51s - loss: 13.9116 - mse: 13.9116 - root_mean_squared_error: 3.6442\n",
            "Epoch 1/20\n",
            " - 51s - loss: 82.6704 - mse: 82.6703 - root_mean_squared_error: 6.2091\n",
            "Epoch 2/20\n",
            " - 51s - loss: 19.0535 - mse: 19.0536 - root_mean_squared_error: 4.2358\n",
            "Epoch 3/20\n",
            " - 50s - loss: 16.8737 - mse: 16.8737 - root_mean_squared_error: 3.9796\n",
            "Epoch 4/20\n",
            " - 50s - loss: 15.6932 - mse: 15.6932 - root_mean_squared_error: 3.8292\n",
            "Epoch 5/20\n",
            " - 50s - loss: 15.1757 - mse: 15.1757 - root_mean_squared_error: 3.7270\n",
            "Epoch 6/20\n",
            " - 50s - loss: 14.3716 - mse: 14.3717 - root_mean_squared_error: 3.6170\n",
            "Epoch 7/20\n",
            " - 51s - loss: 13.9939 - mse: 13.9939 - root_mean_squared_error: 3.5336\n",
            "Epoch 8/20\n",
            " - 51s - loss: 13.7955 - mse: 13.7955 - root_mean_squared_error: 3.4525\n",
            "Epoch 9/20\n",
            " - 51s - loss: 12.9636 - mse: 12.9636 - root_mean_squared_error: 3.3854\n",
            "Epoch 10/20\n",
            " - 50s - loss: 11.9716 - mse: 11.9716 - root_mean_squared_error: 3.3135\n",
            "Epoch 11/20\n",
            " - 50s - loss: 12.6255 - mse: 12.6255 - root_mean_squared_error: 3.2773\n",
            "Epoch 12/20\n",
            " - 50s - loss: 11.8816 - mse: 11.8815 - root_mean_squared_error: 3.2272\n",
            "Epoch 13/20\n",
            " - 51s - loss: 11.4963 - mse: 11.4963 - root_mean_squared_error: 3.1883\n",
            "Epoch 14/20\n",
            " - 51s - loss: 11.9665 - mse: 11.9665 - root_mean_squared_error: 3.1440\n",
            "Epoch 15/20\n",
            " - 50s - loss: 10.7052 - mse: 10.7052 - root_mean_squared_error: 3.1019\n",
            "Epoch 16/20\n",
            " - 50s - loss: 10.4561 - mse: 10.4560 - root_mean_squared_error: 3.0717\n",
            "Epoch 17/20\n",
            " - 50s - loss: 10.5323 - mse: 10.5323 - root_mean_squared_error: 3.0508\n",
            "Epoch 18/20\n",
            " - 50s - loss: 10.9071 - mse: 10.9071 - root_mean_squared_error: 3.0516\n",
            "Epoch 19/20\n",
            " - 51s - loss: 10.2547 - mse: 10.2546 - root_mean_squared_error: 2.9914\n",
            "Epoch 20/20\n",
            " - 51s - loss: 9.9734 - mse: 9.9734 - root_mean_squared_error: 2.9711\n",
            "Baseline: -479.74 (33.09) MSE\n"
          ],
          "name": "stdout"
        }
      ]
    },
    {
      "cell_type": "code",
      "metadata": {
        "id": "N7V2EwQ0dj_L",
        "colab_type": "code",
        "colab": {
          "base_uri": "https://localhost:8080/",
          "height": 751
        },
        "outputId": "2bb7b792-c9da-4bb1-a1fa-ca61f4f19293"
      },
      "source": [
        "# Fitting the model and Predicting on the test set\n",
        " \n",
        "estimator.fit(train_120d, label_train)\n",
        "prediction = estimator.predict(test_120d)\n",
        " \n",
        "# estimator.model.save('saved_model.h5')\n",
        "print(\"MSE: \", mean_squared_error(label_test, prediction))\n",
        "print(\"RMSE: \", mean_squared_error(label_test, prediction, squared=False))"
      ],
      "execution_count": null,
      "outputs": [
        {
          "output_type": "stream",
          "text": [
            "Epoch 1/20\n",
            " - 101s - loss: 70.7152 - mse: 70.7154 - root_mean_squared_error: 6.4601\n",
            "Epoch 2/20\n",
            " - 100s - loss: 26.3166 - mse: 26.3166 - root_mean_squared_error: 5.0217\n",
            "Epoch 3/20\n",
            " - 101s - loss: 23.7156 - mse: 23.7157 - root_mean_squared_error: 4.7642\n",
            "Epoch 4/20\n",
            " - 100s - loss: 22.1886 - mse: 22.1885 - root_mean_squared_error: 4.6096\n",
            "Epoch 5/20\n",
            " - 100s - loss: 20.8939 - mse: 20.8939 - root_mean_squared_error: 4.4691\n",
            "Epoch 6/20\n",
            " - 101s - loss: 19.8686 - mse: 19.8687 - root_mean_squared_error: 4.3391\n",
            "Epoch 7/20\n",
            " - 100s - loss: 19.0705 - mse: 19.0705 - root_mean_squared_error: 4.2027\n",
            "Epoch 8/20\n",
            " - 101s - loss: 17.7293 - mse: 17.7293 - root_mean_squared_error: 4.0954\n",
            "Epoch 9/20\n",
            " - 102s - loss: 17.2004 - mse: 17.2004 - root_mean_squared_error: 4.0253\n",
            "Epoch 10/20\n",
            " - 101s - loss: 16.6529 - mse: 16.6530 - root_mean_squared_error: 3.9550\n",
            "Epoch 11/20\n",
            " - 100s - loss: 16.0972 - mse: 16.0972 - root_mean_squared_error: 3.8871\n",
            "Epoch 12/20\n",
            " - 102s - loss: 15.7434 - mse: 15.7433 - root_mean_squared_error: 3.8362\n",
            "Epoch 13/20\n",
            " - 100s - loss: 15.2645 - mse: 15.2645 - root_mean_squared_error: 3.7937\n",
            "Epoch 14/20\n",
            " - 100s - loss: 15.0985 - mse: 15.0985 - root_mean_squared_error: 3.7676\n",
            "Epoch 15/20\n",
            " - 101s - loss: 15.2498 - mse: 15.2498 - root_mean_squared_error: 3.7507\n",
            "Epoch 16/20\n",
            " - 100s - loss: 14.5821 - mse: 14.5821 - root_mean_squared_error: 3.7159\n",
            "Epoch 17/20\n",
            " - 100s - loss: 14.9639 - mse: 14.9639 - root_mean_squared_error: 3.7037\n",
            "Epoch 18/20\n",
            " - 101s - loss: 14.3125 - mse: 14.3125 - root_mean_squared_error: 3.6796\n",
            "Epoch 19/20\n",
            " - 100s - loss: 14.2388 - mse: 14.2388 - root_mean_squared_error: 3.6566\n",
            "Epoch 20/20\n",
            " - 100s - loss: 14.1110 - mse: 14.1110 - root_mean_squared_error: 3.6434\n",
            "MSE:  80.61512986636775\n",
            "RMSE:  8.978592866722924\n"
          ],
          "name": "stdout"
        }
      ]
    },
    {
      "cell_type": "code",
      "metadata": {
        "id": "ah6lSaeF_8Wh",
        "colab_type": "code",
        "colab": {
          "base_uri": "https://localhost:8080/",
          "height": 68
        },
        "outputId": "f6a74a1d-79fb-4a3c-894d-53a61841f51f"
      },
      "source": [
        "# loading the model\n",
        "model2 = KerasRegressor(build_fn=baseline_model, epochs=10, batch_size=10, verbose=1)\n",
        " \n",
        "dependencies = {\n",
        "    'root_mean_squared_error': root_mean_squared_error\n",
        "}\n",
        "model2.model = load_model('saved_model.h5', custom_objects=dependencies)\n",
        " \n",
        "pred_d = model2.predict(test_120d)\n",
        "print(\"MSE: \", mean_squared_error(label_test, pred_d))\n",
        "print(\"RMSE: \", mean_squared_error(label_test, pred_d, squared=False))"
      ],
      "execution_count": null,
      "outputs": [
        {
          "output_type": "stream",
          "text": [
            "116800/116800 [==============================] - 11s 90us/step\n",
            "MSE:  80.61512986636775\n",
            "RMSE:  8.978592866722924\n"
          ],
          "name": "stdout"
        }
      ]
    },
    {
      "cell_type": "code",
      "metadata": {
        "id": "m0p43I8Orfgx",
        "colab_type": "code",
        "colab": {
          "base_uri": "https://localhost:8080/",
          "height": 105
        },
        "outputId": "ec48291a-85a3-4860-bff3-85e4ffed592b"
      },
      "source": [
        "train_d_pred = model2.predict(train_120d)\n",
        "test_d_pred = model2.predict(test_120d)\n",
        "print(\"train_120d RMSE: \", mean_squared_error(label_train, train_d_pred, squared=False)) \n",
        "print(\"test_120d RMSE: \", mean_squared_error(label_test, test_d_pred, squared=False))"
      ],
      "execution_count": null,
      "outputs": [
        {
          "output_type": "stream",
          "text": [
            "470265/470265 [==============================] - 43s 92us/step\n",
            "116800/116800 [==============================] - 10s 90us/step\n",
            "train_120d RMSE:  3.655166256475171\n",
            "test_120d RMSE:  8.978592866722924\n"
          ],
          "name": "stdout"
        }
      ]
    },
    {
      "cell_type": "code",
      "metadata": {
        "id": "mEOm6hW518bc",
        "colab_type": "code",
        "colab": {}
      },
      "source": [
        "# saving predictions \n",
        " \n",
        "np.save('nn_d_best',pred_d)"
      ],
      "execution_count": null,
      "outputs": []
    },
    {
      "cell_type": "markdown",
      "metadata": {
        "id": "Cgo6YgySA-Em",
        "colab_type": "text"
      },
      "source": [
        "## 120U"
      ]
    },
    {
      "cell_type": "code",
      "metadata": {
        "id": "2n0WPHOwBDnj",
        "colab_type": "code",
        "colab": {}
      },
      "source": [
        "train_120u = pd.get_dummies(train_120u, columns=['CHAMBER'])\n",
        "test_120u = pd.get_dummies(test_120u, columns=['CHAMBER'])"
      ],
      "execution_count": null,
      "outputs": []
    },
    {
      "cell_type": "code",
      "metadata": {
        "id": "aLZ2A7n9CTTc",
        "colab_type": "code",
        "colab": {
          "base_uri": "https://localhost:8080/",
          "height": 34
        },
        "outputId": "ad04c4ac-8dc3-4699-d896-5325d672be7c"
      },
      "source": [
        "len(train_120u), len(test_120u)"
      ],
      "execution_count": null,
      "outputs": [
        {
          "output_type": "execute_result",
          "data": {
            "text/plain": [
              "(101399, 19997)"
            ]
          },
          "metadata": {
            "tags": []
          },
          "execution_count": 147
        }
      ]
    },
    {
      "cell_type": "code",
      "metadata": {
        "id": "AHHE6taoCddz",
        "colab_type": "code",
        "colab": {
          "base_uri": "https://localhost:8080/",
          "height": 416
        },
        "outputId": "641e5456-5ab0-4298-9c1a-38cc16715063"
      },
      "source": [
        "# rolling apply function\n",
        " \n",
        "train_120u = roll(train_120u)"
      ],
      "execution_count": null,
      "outputs": [
        {
          "output_type": "stream",
          "text": [
            "Column USAGE_OF_BACKING_FILM done!\n",
            "Column USAGE_OF_DRESSER done!\n",
            "Column USAGE_OF_POLISHING_TABLE done!\n",
            "Column USAGE_OF_DRESSER_TABLE done!\n",
            "Column PRESSURIZED_CHAMBER_PRESSURE done!\n",
            "Column MAIN_OUTER_AIR_BAG_PRESSURE done!\n",
            "Column CENTER_AIR_BAG_PRESSURE done!\n",
            "Column RETAINER_RING_PRESSURE done!\n",
            "Column RIPPLE_AIR_BAG_PRESSURE done!\n",
            "Column USAGE_OF_MEMBRANE done!\n",
            "Column USAGE_OF_PRESSURIZED_SHEET done!\n",
            "Column SLURRY_FLOW_LINE_A done!\n",
            "Column SLURRY_FLOW_LINE_B done!\n",
            "Column SLURRY_FLOW_LINE_C done!\n",
            "Column WAFER_ROTATION done!\n",
            "Column STAGE_ROTATION done!\n",
            "Column HEAD_ROTATION done!\n",
            "Column DRESSING_WATER_STATUS done!\n",
            "Column EDGE_AIR_BAG_PRESSURE done!\n",
            "Column CHAMBER_1.0 done!\n",
            "Column CHAMBER_2.0 done!\n",
            "Column CHAMBER_3.0 done!\n",
            "Complete!!!\n"
          ],
          "name": "stdout"
        }
      ]
    },
    {
      "cell_type": "code",
      "metadata": {
        "id": "v23OLTZ8Cv8o",
        "colab_type": "code",
        "colab": {
          "base_uri": "https://localhost:8080/",
          "height": 416
        },
        "outputId": "7ec526b9-47f2-4df9-9421-fc65f0c7f7b2"
      },
      "source": [
        " test_120u = roll(test_120u)"
      ],
      "execution_count": null,
      "outputs": [
        {
          "output_type": "stream",
          "text": [
            "Column USAGE_OF_BACKING_FILM done!\n",
            "Column USAGE_OF_DRESSER done!\n",
            "Column USAGE_OF_POLISHING_TABLE done!\n",
            "Column USAGE_OF_DRESSER_TABLE done!\n",
            "Column PRESSURIZED_CHAMBER_PRESSURE done!\n",
            "Column MAIN_OUTER_AIR_BAG_PRESSURE done!\n",
            "Column CENTER_AIR_BAG_PRESSURE done!\n",
            "Column RETAINER_RING_PRESSURE done!\n",
            "Column RIPPLE_AIR_BAG_PRESSURE done!\n",
            "Column USAGE_OF_MEMBRANE done!\n",
            "Column USAGE_OF_PRESSURIZED_SHEET done!\n",
            "Column SLURRY_FLOW_LINE_A done!\n",
            "Column SLURRY_FLOW_LINE_B done!\n",
            "Column SLURRY_FLOW_LINE_C done!\n",
            "Column WAFER_ROTATION done!\n",
            "Column STAGE_ROTATION done!\n",
            "Column HEAD_ROTATION done!\n",
            "Column DRESSING_WATER_STATUS done!\n",
            "Column EDGE_AIR_BAG_PRESSURE done!\n",
            "Column CHAMBER_1.0 done!\n",
            "Column CHAMBER_2.0 done!\n",
            "Column CHAMBER_3.0 done!\n",
            "Complete!!!\n"
          ],
          "name": "stdout"
        }
      ]
    },
    {
      "cell_type": "code",
      "metadata": {
        "id": "kcsaAdOkC4KI",
        "colab_type": "code",
        "colab": {
          "base_uri": "https://localhost:8080/",
          "height": 1000
        },
        "outputId": "91261718-81ef-4f44-9f1e-c2b56b87f7d1"
      },
      "source": [
        "train_120u.info()"
      ],
      "execution_count": null,
      "outputs": [
        {
          "output_type": "stream",
          "text": [
            "<class 'pandas.core.frame.DataFrame'>\n",
            "Int64Index: 16877 entries, 9246 to 94606\n",
            "Data columns (total 94 columns):\n",
            " #   Column                                       Non-Null Count  Dtype  \n",
            "---  ------                                       --------------  -----  \n",
            " 0   MACHINE_ID                                   16877 non-null  object \n",
            " 1   MACHINE_DATA                                 16877 non-null  object \n",
            " 2   TIMESTAMP                                    16877 non-null  float64\n",
            " 3   WAFER_ID                                     16877 non-null  object \n",
            " 4   STAGE                                        16877 non-null  object \n",
            " 5   USAGE_OF_BACKING_FILM                        16877 non-null  float64\n",
            " 6   USAGE_OF_DRESSER                             16877 non-null  float64\n",
            " 7   USAGE_OF_POLISHING_TABLE                     16877 non-null  float64\n",
            " 8   USAGE_OF_DRESSER_TABLE                       16877 non-null  float64\n",
            " 9   PRESSURIZED_CHAMBER_PRESSURE                 16877 non-null  float64\n",
            " 10  MAIN_OUTER_AIR_BAG_PRESSURE                  16877 non-null  float64\n",
            " 11  CENTER_AIR_BAG_PRESSURE                      16877 non-null  float64\n",
            " 12  RETAINER_RING_PRESSURE                       16877 non-null  float64\n",
            " 13  RIPPLE_AIR_BAG_PRESSURE                      16877 non-null  float64\n",
            " 14  USAGE_OF_MEMBRANE                            16877 non-null  float64\n",
            " 15  USAGE_OF_PRESSURIZED_SHEET                   16877 non-null  float64\n",
            " 16  SLURRY_FLOW_LINE_A                           16877 non-null  float64\n",
            " 17  SLURRY_FLOW_LINE_B                           16877 non-null  float64\n",
            " 18  SLURRY_FLOW_LINE_C                           16877 non-null  float64\n",
            " 19  WAFER_ROTATION                               16877 non-null  float64\n",
            " 20  STAGE_ROTATION                               16877 non-null  float64\n",
            " 21  HEAD_ROTATION                                16877 non-null  float64\n",
            " 22  DRESSING_WATER_STATUS                        16877 non-null  float64\n",
            " 23  EDGE_AIR_BAG_PRESSURE                        16877 non-null  float64\n",
            " 24  AVG_REMOVAL_RATE                             16877 non-null  float64\n",
            " 25  CHAMBER_1.0                                  16877 non-null  uint8  \n",
            " 26  CHAMBER_2.0                                  16877 non-null  uint8  \n",
            " 27  CHAMBER_3.0                                  16877 non-null  uint8  \n",
            " 28  rolling_mean_USAGE_OF_BACKING_FILM           16877 non-null  float64\n",
            " 29  rolling_median_USAGE_OF_BACKING_FILM         16877 non-null  float64\n",
            " 30  rolling_std_USAGE_OF_BACKING_FILM            16877 non-null  float64\n",
            " 31  rolling_mean_USAGE_OF_DRESSER                16877 non-null  float64\n",
            " 32  rolling_median_USAGE_OF_DRESSER              16877 non-null  float64\n",
            " 33  rolling_std_USAGE_OF_DRESSER                 16877 non-null  float64\n",
            " 34  rolling_mean_USAGE_OF_POLISHING_TABLE        16877 non-null  float64\n",
            " 35  rolling_median_USAGE_OF_POLISHING_TABLE      16877 non-null  float64\n",
            " 36  rolling_std_USAGE_OF_POLISHING_TABLE         16877 non-null  float64\n",
            " 37  rolling_mean_USAGE_OF_DRESSER_TABLE          16877 non-null  float64\n",
            " 38  rolling_median_USAGE_OF_DRESSER_TABLE        16877 non-null  float64\n",
            " 39  rolling_std_USAGE_OF_DRESSER_TABLE           16877 non-null  float64\n",
            " 40  rolling_mean_PRESSURIZED_CHAMBER_PRESSURE    16877 non-null  float64\n",
            " 41  rolling_median_PRESSURIZED_CHAMBER_PRESSURE  16877 non-null  float64\n",
            " 42  rolling_std_PRESSURIZED_CHAMBER_PRESSURE     16877 non-null  float64\n",
            " 43  rolling_mean_MAIN_OUTER_AIR_BAG_PRESSURE     16877 non-null  float64\n",
            " 44  rolling_median_MAIN_OUTER_AIR_BAG_PRESSURE   16877 non-null  float64\n",
            " 45  rolling_std_MAIN_OUTER_AIR_BAG_PRESSURE      16877 non-null  float64\n",
            " 46  rolling_mean_CENTER_AIR_BAG_PRESSURE         16877 non-null  float64\n",
            " 47  rolling_median_CENTER_AIR_BAG_PRESSURE       16877 non-null  float64\n",
            " 48  rolling_std_CENTER_AIR_BAG_PRESSURE          16877 non-null  float64\n",
            " 49  rolling_mean_RETAINER_RING_PRESSURE          16877 non-null  float64\n",
            " 50  rolling_median_RETAINER_RING_PRESSURE        16877 non-null  float64\n",
            " 51  rolling_std_RETAINER_RING_PRESSURE           16877 non-null  float64\n",
            " 52  rolling_mean_RIPPLE_AIR_BAG_PRESSURE         16877 non-null  float64\n",
            " 53  rolling_median_RIPPLE_AIR_BAG_PRESSURE       16877 non-null  float64\n",
            " 54  rolling_std_RIPPLE_AIR_BAG_PRESSURE          16877 non-null  float64\n",
            " 55  rolling_mean_USAGE_OF_MEMBRANE               16877 non-null  float64\n",
            " 56  rolling_median_USAGE_OF_MEMBRANE             16877 non-null  float64\n",
            " 57  rolling_std_USAGE_OF_MEMBRANE                16877 non-null  float64\n",
            " 58  rolling_mean_USAGE_OF_PRESSURIZED_SHEET      16877 non-null  float64\n",
            " 59  rolling_median_USAGE_OF_PRESSURIZED_SHEET    16877 non-null  float64\n",
            " 60  rolling_std_USAGE_OF_PRESSURIZED_SHEET       16877 non-null  float64\n",
            " 61  rolling_mean_SLURRY_FLOW_LINE_A              16877 non-null  float64\n",
            " 62  rolling_median_SLURRY_FLOW_LINE_A            16877 non-null  float64\n",
            " 63  rolling_std_SLURRY_FLOW_LINE_A               16877 non-null  float64\n",
            " 64  rolling_mean_SLURRY_FLOW_LINE_B              16877 non-null  float64\n",
            " 65  rolling_median_SLURRY_FLOW_LINE_B            16877 non-null  float64\n",
            " 66  rolling_std_SLURRY_FLOW_LINE_B               16877 non-null  float64\n",
            " 67  rolling_mean_SLURRY_FLOW_LINE_C              16877 non-null  float64\n",
            " 68  rolling_median_SLURRY_FLOW_LINE_C            16877 non-null  float64\n",
            " 69  rolling_std_SLURRY_FLOW_LINE_C               16877 non-null  float64\n",
            " 70  rolling_mean_WAFER_ROTATION                  16877 non-null  float64\n",
            " 71  rolling_median_WAFER_ROTATION                16877 non-null  float64\n",
            " 72  rolling_std_WAFER_ROTATION                   16877 non-null  float64\n",
            " 73  rolling_mean_STAGE_ROTATION                  16877 non-null  float64\n",
            " 74  rolling_median_STAGE_ROTATION                16877 non-null  float64\n",
            " 75  rolling_std_STAGE_ROTATION                   16877 non-null  float64\n",
            " 76  rolling_mean_HEAD_ROTATION                   16877 non-null  float64\n",
            " 77  rolling_median_HEAD_ROTATION                 16877 non-null  float64\n",
            " 78  rolling_std_HEAD_ROTATION                    16877 non-null  float64\n",
            " 79  rolling_mean_DRESSING_WATER_STATUS           16877 non-null  float64\n",
            " 80  rolling_median_DRESSING_WATER_STATUS         16877 non-null  float64\n",
            " 81  rolling_std_DRESSING_WATER_STATUS            16877 non-null  float64\n",
            " 82  rolling_mean_EDGE_AIR_BAG_PRESSURE           16877 non-null  float64\n",
            " 83  rolling_median_EDGE_AIR_BAG_PRESSURE         16877 non-null  float64\n",
            " 84  rolling_std_EDGE_AIR_BAG_PRESSURE            16877 non-null  float64\n",
            " 85  rolling_mean_CHAMBER_1.0                     16877 non-null  float64\n",
            " 86  rolling_median_CHAMBER_1.0                   16877 non-null  float64\n",
            " 87  rolling_std_CHAMBER_1.0                      16877 non-null  float64\n",
            " 88  rolling_mean_CHAMBER_2.0                     16877 non-null  float64\n",
            " 89  rolling_median_CHAMBER_2.0                   16877 non-null  float64\n",
            " 90  rolling_std_CHAMBER_2.0                      16877 non-null  float64\n",
            " 91  rolling_mean_CHAMBER_3.0                     16877 non-null  float64\n",
            " 92  rolling_median_CHAMBER_3.0                   16877 non-null  float64\n",
            " 93  rolling_std_CHAMBER_3.0                      16877 non-null  float64\n",
            "dtypes: float64(87), object(4), uint8(3)\n",
            "memory usage: 11.9+ MB\n"
          ],
          "name": "stdout"
        }
      ]
    },
    {
      "cell_type": "code",
      "metadata": {
        "id": "8To5kiZpDQ5H",
        "colab_type": "code",
        "colab": {
          "base_uri": "https://localhost:8080/",
          "height": 1000
        },
        "outputId": "74a78279-1aac-4d2e-d09c-5d9b92d65d6d"
      },
      "source": [
        "test_120u.info()"
      ],
      "execution_count": null,
      "outputs": [
        {
          "output_type": "stream",
          "text": [
            "<class 'pandas.core.frame.DataFrame'>\n",
            "Int64Index: 2706 entries, 9 to 17519\n",
            "Data columns (total 94 columns):\n",
            " #   Column                                       Non-Null Count  Dtype  \n",
            "---  ------                                       --------------  -----  \n",
            " 0   MACHINE_ID                                   2706 non-null   object \n",
            " 1   MACHINE_DATA                                 2706 non-null   object \n",
            " 2   TIMESTAMP                                    2706 non-null   float64\n",
            " 3   WAFER_ID                                     2706 non-null   object \n",
            " 4   STAGE                                        2706 non-null   object \n",
            " 5   USAGE_OF_BACKING_FILM                        2706 non-null   float64\n",
            " 6   USAGE_OF_DRESSER                             2706 non-null   float64\n",
            " 7   USAGE_OF_POLISHING_TABLE                     2706 non-null   float64\n",
            " 8   USAGE_OF_DRESSER_TABLE                       2706 non-null   float64\n",
            " 9   PRESSURIZED_CHAMBER_PRESSURE                 2706 non-null   float64\n",
            " 10  MAIN_OUTER_AIR_BAG_PRESSURE                  2706 non-null   float64\n",
            " 11  CENTER_AIR_BAG_PRESSURE                      2706 non-null   float64\n",
            " 12  RETAINER_RING_PRESSURE                       2706 non-null   float64\n",
            " 13  RIPPLE_AIR_BAG_PRESSURE                      2706 non-null   float64\n",
            " 14  USAGE_OF_MEMBRANE                            2706 non-null   float64\n",
            " 15  USAGE_OF_PRESSURIZED_SHEET                   2706 non-null   float64\n",
            " 16  SLURRY_FLOW_LINE_A                           2706 non-null   float64\n",
            " 17  SLURRY_FLOW_LINE_B                           2706 non-null   float64\n",
            " 18  SLURRY_FLOW_LINE_C                           2706 non-null   float64\n",
            " 19  WAFER_ROTATION                               2706 non-null   float64\n",
            " 20  STAGE_ROTATION                               2706 non-null   float64\n",
            " 21  HEAD_ROTATION                                2706 non-null   float64\n",
            " 22  DRESSING_WATER_STATUS                        2706 non-null   float64\n",
            " 23  EDGE_AIR_BAG_PRESSURE                        2706 non-null   float64\n",
            " 24  AVG_REMOVAL_RATE                             2706 non-null   float64\n",
            " 25  CHAMBER_1.0                                  2706 non-null   uint8  \n",
            " 26  CHAMBER_2.0                                  2706 non-null   uint8  \n",
            " 27  CHAMBER_3.0                                  2706 non-null   uint8  \n",
            " 28  rolling_mean_USAGE_OF_BACKING_FILM           2706 non-null   float64\n",
            " 29  rolling_median_USAGE_OF_BACKING_FILM         2706 non-null   float64\n",
            " 30  rolling_std_USAGE_OF_BACKING_FILM            2706 non-null   float64\n",
            " 31  rolling_mean_USAGE_OF_DRESSER                2706 non-null   float64\n",
            " 32  rolling_median_USAGE_OF_DRESSER              2706 non-null   float64\n",
            " 33  rolling_std_USAGE_OF_DRESSER                 2706 non-null   float64\n",
            " 34  rolling_mean_USAGE_OF_POLISHING_TABLE        2706 non-null   float64\n",
            " 35  rolling_median_USAGE_OF_POLISHING_TABLE      2706 non-null   float64\n",
            " 36  rolling_std_USAGE_OF_POLISHING_TABLE         2706 non-null   float64\n",
            " 37  rolling_mean_USAGE_OF_DRESSER_TABLE          2706 non-null   float64\n",
            " 38  rolling_median_USAGE_OF_DRESSER_TABLE        2706 non-null   float64\n",
            " 39  rolling_std_USAGE_OF_DRESSER_TABLE           2706 non-null   float64\n",
            " 40  rolling_mean_PRESSURIZED_CHAMBER_PRESSURE    2706 non-null   float64\n",
            " 41  rolling_median_PRESSURIZED_CHAMBER_PRESSURE  2706 non-null   float64\n",
            " 42  rolling_std_PRESSURIZED_CHAMBER_PRESSURE     2706 non-null   float64\n",
            " 43  rolling_mean_MAIN_OUTER_AIR_BAG_PRESSURE     2706 non-null   float64\n",
            " 44  rolling_median_MAIN_OUTER_AIR_BAG_PRESSURE   2706 non-null   float64\n",
            " 45  rolling_std_MAIN_OUTER_AIR_BAG_PRESSURE      2706 non-null   float64\n",
            " 46  rolling_mean_CENTER_AIR_BAG_PRESSURE         2706 non-null   float64\n",
            " 47  rolling_median_CENTER_AIR_BAG_PRESSURE       2706 non-null   float64\n",
            " 48  rolling_std_CENTER_AIR_BAG_PRESSURE          2706 non-null   float64\n",
            " 49  rolling_mean_RETAINER_RING_PRESSURE          2706 non-null   float64\n",
            " 50  rolling_median_RETAINER_RING_PRESSURE        2706 non-null   float64\n",
            " 51  rolling_std_RETAINER_RING_PRESSURE           2706 non-null   float64\n",
            " 52  rolling_mean_RIPPLE_AIR_BAG_PRESSURE         2706 non-null   float64\n",
            " 53  rolling_median_RIPPLE_AIR_BAG_PRESSURE       2706 non-null   float64\n",
            " 54  rolling_std_RIPPLE_AIR_BAG_PRESSURE          2706 non-null   float64\n",
            " 55  rolling_mean_USAGE_OF_MEMBRANE               2706 non-null   float64\n",
            " 56  rolling_median_USAGE_OF_MEMBRANE             2706 non-null   float64\n",
            " 57  rolling_std_USAGE_OF_MEMBRANE                2706 non-null   float64\n",
            " 58  rolling_mean_USAGE_OF_PRESSURIZED_SHEET      2706 non-null   float64\n",
            " 59  rolling_median_USAGE_OF_PRESSURIZED_SHEET    2706 non-null   float64\n",
            " 60  rolling_std_USAGE_OF_PRESSURIZED_SHEET       2706 non-null   float64\n",
            " 61  rolling_mean_SLURRY_FLOW_LINE_A              2706 non-null   float64\n",
            " 62  rolling_median_SLURRY_FLOW_LINE_A            2706 non-null   float64\n",
            " 63  rolling_std_SLURRY_FLOW_LINE_A               2706 non-null   float64\n",
            " 64  rolling_mean_SLURRY_FLOW_LINE_B              2706 non-null   float64\n",
            " 65  rolling_median_SLURRY_FLOW_LINE_B            2706 non-null   float64\n",
            " 66  rolling_std_SLURRY_FLOW_LINE_B               2706 non-null   float64\n",
            " 67  rolling_mean_SLURRY_FLOW_LINE_C              2706 non-null   float64\n",
            " 68  rolling_median_SLURRY_FLOW_LINE_C            2706 non-null   float64\n",
            " 69  rolling_std_SLURRY_FLOW_LINE_C               2706 non-null   float64\n",
            " 70  rolling_mean_WAFER_ROTATION                  2706 non-null   float64\n",
            " 71  rolling_median_WAFER_ROTATION                2706 non-null   float64\n",
            " 72  rolling_std_WAFER_ROTATION                   2706 non-null   float64\n",
            " 73  rolling_mean_STAGE_ROTATION                  2706 non-null   float64\n",
            " 74  rolling_median_STAGE_ROTATION                2706 non-null   float64\n",
            " 75  rolling_std_STAGE_ROTATION                   2706 non-null   float64\n",
            " 76  rolling_mean_HEAD_ROTATION                   2706 non-null   float64\n",
            " 77  rolling_median_HEAD_ROTATION                 2706 non-null   float64\n",
            " 78  rolling_std_HEAD_ROTATION                    2706 non-null   float64\n",
            " 79  rolling_mean_DRESSING_WATER_STATUS           2706 non-null   float64\n",
            " 80  rolling_median_DRESSING_WATER_STATUS         2706 non-null   float64\n",
            " 81  rolling_std_DRESSING_WATER_STATUS            2706 non-null   float64\n",
            " 82  rolling_mean_EDGE_AIR_BAG_PRESSURE           2706 non-null   float64\n",
            " 83  rolling_median_EDGE_AIR_BAG_PRESSURE         2706 non-null   float64\n",
            " 84  rolling_std_EDGE_AIR_BAG_PRESSURE            2706 non-null   float64\n",
            " 85  rolling_mean_CHAMBER_1.0                     2706 non-null   float64\n",
            " 86  rolling_median_CHAMBER_1.0                   2706 non-null   float64\n",
            " 87  rolling_std_CHAMBER_1.0                      2706 non-null   float64\n",
            " 88  rolling_mean_CHAMBER_2.0                     2706 non-null   float64\n",
            " 89  rolling_median_CHAMBER_2.0                   2706 non-null   float64\n",
            " 90  rolling_std_CHAMBER_2.0                      2706 non-null   float64\n",
            " 91  rolling_mean_CHAMBER_3.0                     2706 non-null   float64\n",
            " 92  rolling_median_CHAMBER_3.0                   2706 non-null   float64\n",
            " 93  rolling_std_CHAMBER_3.0                      2706 non-null   float64\n",
            "dtypes: float64(87), object(4), uint8(3)\n",
            "memory usage: 1.9+ MB\n"
          ],
          "name": "stdout"
        }
      ]
    },
    {
      "cell_type": "code",
      "metadata": {
        "id": "Gzrw0nzC6Js_",
        "colab_type": "code",
        "colab": {}
      },
      "source": [
        " \n",
        "# to be used later while saving predictions \n",
        " \n",
        "wafer_120u = test_120u['WAFER_ID']\n",
        "stage_120u = test_120u['STAGE']"
      ],
      "execution_count": null,
      "outputs": []
    },
    {
      "cell_type": "code",
      "metadata": {
        "id": "zdL-PV6JDUHQ",
        "colab_type": "code",
        "colab": {
          "base_uri": "https://localhost:8080/",
          "height": 34
        },
        "outputId": "e01d908b-ac44-4439-d24e-13edf2344ba2"
      },
      "source": [
        "len(train_120u), len(test_120u)"
      ],
      "execution_count": null,
      "outputs": [
        {
          "output_type": "execute_result",
          "data": {
            "text/plain": [
              "(16877, 2706)"
            ]
          },
          "metadata": {
            "tags": []
          },
          "execution_count": 114
        }
      ]
    },
    {
      "cell_type": "code",
      "metadata": {
        "id": "LxhEmEwYDtYM",
        "colab_type": "code",
        "colab": {
          "base_uri": "https://localhost:8080/",
          "height": 34
        },
        "outputId": "5670312e-755c-4b41-b206-d88d6e8d39c5"
      },
      "source": [
        "train_120u.shape, test_120u.shape"
      ],
      "execution_count": null,
      "outputs": [
        {
          "output_type": "execute_result",
          "data": {
            "text/plain": [
              "((16877, 94), (2706, 94))"
            ]
          },
          "metadata": {
            "tags": []
          },
          "execution_count": 115
        }
      ]
    },
    {
      "cell_type": "code",
      "metadata": {
        "id": "d9cqFEWpD3S9",
        "colab_type": "code",
        "colab": {}
      },
      "source": [
        "u_label_train = train_120u['AVG_REMOVAL_RATE']\n",
        "train_120u = train_120u.drop(['AVG_REMOVAL_RATE', 'STAGE', 'TIMESTAMP'], axis=1)\n",
        " \n",
        "u_label_test = test_120u['AVG_REMOVAL_RATE']\n",
        "test_120u = test_120u.drop(['AVG_REMOVAL_RATE', 'STAGE', 'TIMESTAMP'], axis=1)"
      ],
      "execution_count": null,
      "outputs": []
    },
    {
      "cell_type": "code",
      "metadata": {
        "id": "-g9WpmSbEJNs",
        "colab_type": "code",
        "colab": {}
      },
      "source": [
        "train_120u = train_120u.to_numpy()\n",
        "test_120u = test_120u.to_numpy()"
      ],
      "execution_count": null,
      "outputs": []
    },
    {
      "cell_type": "code",
      "metadata": {
        "id": "kW41dyHRG174",
        "colab_type": "code",
        "colab": {
          "base_uri": "https://localhost:8080/",
          "height": 34
        },
        "outputId": "fe98aef7-324f-4407-f27f-febe9ab72c07"
      },
      "source": [
        "test_120u.shape"
      ],
      "execution_count": null,
      "outputs": [
        {
          "output_type": "execute_result",
          "data": {
            "text/plain": [
              "(2706, 91)"
            ]
          },
          "metadata": {
            "tags": []
          },
          "execution_count": 118
        }
      ]
    },
    {
      "cell_type": "code",
      "metadata": {
        "id": "96XRYaiVE694",
        "colab_type": "code",
        "colab": {
          "base_uri": "https://localhost:8080/",
          "height": 106
        },
        "outputId": "c9dd6833-032b-4aaf-8fdb-f06621705210"
      },
      "source": [
        "train_120u, test_120u = feature_scaling(train_120u, test_120u)"
      ],
      "execution_count": null,
      "outputs": [
        {
          "output_type": "stream",
          "text": [
            "/usr/local/lib/python3.6/dist-packages/sklearn/preprocessing/_data.py:173: UserWarning: Numerical issues were encountered when centering the data and might not be solved. Dataset may contain too large values. You may need to prescale your features.\n",
            "  warnings.warn(\"Numerical issues were encountered \"\n",
            "/usr/local/lib/python3.6/dist-packages/sklearn/preprocessing/_data.py:173: UserWarning: Numerical issues were encountered when centering the data and might not be solved. Dataset may contain too large values. You may need to prescale your features.\n",
            "  warnings.warn(\"Numerical issues were encountered \"\n"
          ],
          "name": "stderr"
        }
      ]
    },
    {
      "cell_type": "code",
      "metadata": {
        "id": "rwStCG23JYCG",
        "colab_type": "code",
        "colab": {
          "base_uri": "https://localhost:8080/",
          "height": 1000
        },
        "outputId": "cbaf7cfa-805d-4f4e-af90-0ce63f2f0e64"
      },
      "source": [
        "np.random.seed(43)\n",
        "# evaluate model\n",
        "estimator_u = KerasRegressor(build_fn=baseline_model, epochs=25, batch_size=5, verbose=2)\n",
        " \n",
        "results = cross_val_score(estimator_u, train_120u, u_label_train, cv=2)\n",
        "print(\"Baseline: %.2f (%.2f) MSE\" % (results.mean(), results.std()))"
      ],
      "execution_count": null,
      "outputs": [
        {
          "output_type": "stream",
          "text": [
            "Epoch 1/25\n",
            " - 4s - loss: 2755.6186 - mse: 2755.6221 - root_mean_squared_error: 33.2654\n",
            "Epoch 2/25\n",
            " - 4s - loss: 60.6675 - mse: 60.6675 - root_mean_squared_error: 6.5762\n",
            "Epoch 3/25\n",
            " - 4s - loss: 25.5615 - mse: 25.5616 - root_mean_squared_error: 4.2952\n",
            "Epoch 4/25\n",
            " - 4s - loss: 13.1959 - mse: 13.1959 - root_mean_squared_error: 3.1338\n",
            "Epoch 5/25\n",
            " - 4s - loss: 7.8040 - mse: 7.8040 - root_mean_squared_error: 2.4195\n",
            "Epoch 6/25\n",
            " - 4s - loss: 5.2000 - mse: 5.2000 - root_mean_squared_error: 1.9731\n",
            "Epoch 7/25\n",
            " - 4s - loss: 3.7832 - mse: 3.7832 - root_mean_squared_error: 1.6999\n",
            "Epoch 8/25\n",
            " - 4s - loss: 3.0229 - mse: 3.0229 - root_mean_squared_error: 1.5398\n",
            "Epoch 9/25\n",
            " - 4s - loss: 2.4457 - mse: 2.4457 - root_mean_squared_error: 1.3910\n",
            "Epoch 10/25\n",
            " - 4s - loss: 2.1864 - mse: 2.1864 - root_mean_squared_error: 1.3074\n",
            "Epoch 11/25\n",
            " - 4s - loss: 2.0448 - mse: 2.0448 - root_mean_squared_error: 1.2738\n",
            "Epoch 12/25\n",
            " - 4s - loss: 1.7963 - mse: 1.7963 - root_mean_squared_error: 1.1942\n",
            "Epoch 13/25\n",
            " - 4s - loss: 1.6711 - mse: 1.6711 - root_mean_squared_error: 1.1562\n",
            "Epoch 14/25\n",
            " - 4s - loss: 1.5449 - mse: 1.5449 - root_mean_squared_error: 1.1159\n",
            "Epoch 15/25\n",
            " - 4s - loss: 1.6259 - mse: 1.6259 - root_mean_squared_error: 1.1144\n",
            "Epoch 16/25\n",
            " - 4s - loss: 1.3666 - mse: 1.3666 - root_mean_squared_error: 1.0509\n",
            "Epoch 17/25\n",
            " - 4s - loss: 1.3857 - mse: 1.3857 - root_mean_squared_error: 1.0534\n",
            "Epoch 18/25\n",
            " - 4s - loss: 1.3078 - mse: 1.3078 - root_mean_squared_error: 1.0250\n",
            "Epoch 19/25\n",
            " - 4s - loss: 1.3400 - mse: 1.3400 - root_mean_squared_error: 1.0375\n",
            "Epoch 20/25\n",
            " - 4s - loss: 1.2270 - mse: 1.2270 - root_mean_squared_error: 0.9643\n",
            "Epoch 21/25\n",
            " - 4s - loss: 1.2564 - mse: 1.2564 - root_mean_squared_error: 0.9981\n",
            "Epoch 22/25\n",
            " - 4s - loss: 1.1709 - mse: 1.1709 - root_mean_squared_error: 0.9707\n",
            "Epoch 23/25\n",
            " - 4s - loss: 1.0703 - mse: 1.0703 - root_mean_squared_error: 0.9325\n",
            "Epoch 24/25\n",
            " - 3s - loss: 1.1364 - mse: 1.1364 - root_mean_squared_error: 0.9503\n",
            "Epoch 25/25\n",
            " - 4s - loss: 1.0882 - mse: 1.0882 - root_mean_squared_error: 0.9348\n",
            "Epoch 1/25\n",
            " - 4s - loss: 2965.6531 - mse: 2965.6489 - root_mean_squared_error: 35.1872\n",
            "Epoch 2/25\n",
            " - 4s - loss: 88.2378 - mse: 88.2378 - root_mean_squared_error: 8.0532\n",
            "Epoch 3/25\n",
            " - 4s - loss: 34.6468 - mse: 34.6468 - root_mean_squared_error: 4.9560\n",
            "Epoch 4/25\n",
            " - 4s - loss: 15.5224 - mse: 15.5224 - root_mean_squared_error: 3.4071\n",
            "Epoch 5/25\n",
            " - 4s - loss: 8.6512 - mse: 8.6512 - root_mean_squared_error: 2.5759\n",
            "Epoch 6/25\n",
            " - 4s - loss: 6.1964 - mse: 6.1964 - root_mean_squared_error: 2.1922\n",
            "Epoch 7/25\n",
            " - 4s - loss: 4.6384 - mse: 4.6384 - root_mean_squared_error: 1.9188\n",
            "Epoch 8/25\n",
            " - 4s - loss: 3.9784 - mse: 3.9784 - root_mean_squared_error: 1.7896\n",
            "Epoch 9/25\n",
            " - 4s - loss: 3.4990 - mse: 3.4990 - root_mean_squared_error: 1.6821\n",
            "Epoch 10/25\n",
            " - 4s - loss: 3.0421 - mse: 3.0421 - root_mean_squared_error: 1.5625\n",
            "Epoch 11/25\n",
            " - 3s - loss: 2.5813 - mse: 2.5813 - root_mean_squared_error: 1.4469\n",
            "Epoch 12/25\n",
            " - 3s - loss: 2.2254 - mse: 2.2254 - root_mean_squared_error: 1.3506\n",
            "Epoch 13/25\n",
            " - 3s - loss: 2.3080 - mse: 2.3080 - root_mean_squared_error: 1.3694\n",
            "Epoch 14/25\n",
            " - 4s - loss: 2.2110 - mse: 2.2110 - root_mean_squared_error: 1.3080\n",
            "Epoch 15/25\n",
            " - 4s - loss: 1.9915 - mse: 1.9915 - root_mean_squared_error: 1.2710\n",
            "Epoch 16/25\n",
            " - 4s - loss: 1.9513 - mse: 1.9513 - root_mean_squared_error: 1.2480\n",
            "Epoch 17/25\n",
            " - 4s - loss: 1.7078 - mse: 1.7078 - root_mean_squared_error: 1.1811\n",
            "Epoch 18/25\n",
            " - 4s - loss: 1.8151 - mse: 1.8151 - root_mean_squared_error: 1.1923\n",
            "Epoch 19/25\n",
            " - 4s - loss: 1.8462 - mse: 1.8462 - root_mean_squared_error: 1.1954\n",
            "Epoch 20/25\n",
            " - 3s - loss: 1.5518 - mse: 1.5518 - root_mean_squared_error: 1.1224\n",
            "Epoch 21/25\n",
            " - 3s - loss: 1.4797 - mse: 1.4797 - root_mean_squared_error: 1.0873\n",
            "Epoch 22/25\n",
            " - 3s - loss: 1.4836 - mse: 1.4835 - root_mean_squared_error: 1.1095\n",
            "Epoch 23/25\n",
            " - 4s - loss: 1.6156 - mse: 1.6156 - root_mean_squared_error: 1.1199\n",
            "Epoch 24/25\n",
            " - 4s - loss: 1.5188 - mse: 1.5188 - root_mean_squared_error: 1.0843\n",
            "Epoch 25/25\n",
            " - 3s - loss: 1.3657 - mse: 1.3657 - root_mean_squared_error: 1.0378\n",
            "Baseline: -5580.82 (571.26) MSE\n"
          ],
          "name": "stdout"
        }
      ]
    },
    {
      "cell_type": "code",
      "metadata": {
        "id": "obYRAqFcJh1D",
        "colab_type": "code",
        "colab": {
          "base_uri": "https://localhost:8080/",
          "height": 990
        },
        "outputId": "3452fcf9-200b-4a0f-99a8-3c67737291df"
      },
      "source": [
        "%time\n",
        "# Predicting on the test set\n",
        "estimator_u.fit(train_120u, u_label_train)\n",
        "pred_u = estimator_u.predict(test_120u)\n",
        "\n",
        "# saving the model\n",
        "estimator_u.model.save('saved_u_model2.h5')\n",
        "print(\"MSE: \", mean_squared_error(u_label_test, pred_u))\n",
        "print(\"RMSE: \", mean_squared_error(u_label_test, pred_u, squared=False))\n",
        "%time"
      ],
      "execution_count": null,
      "outputs": [
        {
          "output_type": "stream",
          "text": [
            "CPU times: user 3 µs, sys: 1e+03 ns, total: 4 µs\n",
            "Wall time: 7.63 µs\n",
            "Epoch 1/25\n",
            " - 7s - loss: 1679.1662 - mse: 1679.1700 - root_mean_squared_error: 23.7545\n",
            "Epoch 2/25\n",
            " - 7s - loss: 65.7224 - mse: 65.7224 - root_mean_squared_error: 6.3897\n",
            "Epoch 3/25\n",
            " - 7s - loss: 28.0616 - mse: 28.0616 - root_mean_squared_error: 4.3689\n",
            "Epoch 4/25\n",
            " - 7s - loss: 17.0497 - mse: 17.0497 - root_mean_squared_error: 3.4977\n",
            "Epoch 5/25\n",
            " - 7s - loss: 11.8068 - mse: 11.8068 - root_mean_squared_error: 2.9832\n",
            "Epoch 6/25\n",
            " - 7s - loss: 8.6359 - mse: 8.6359 - root_mean_squared_error: 2.5906\n",
            "Epoch 7/25\n",
            " - 7s - loss: 6.8797 - mse: 6.8797 - root_mean_squared_error: 2.2978\n",
            "Epoch 8/25\n",
            " - 7s - loss: 5.5278 - mse: 5.5278 - root_mean_squared_error: 2.0961\n",
            "Epoch 9/25\n",
            " - 7s - loss: 4.7125 - mse: 4.7125 - root_mean_squared_error: 1.9536\n",
            "Epoch 10/25\n",
            " - 7s - loss: 4.0923 - mse: 4.0923 - root_mean_squared_error: 1.8221\n",
            "Epoch 11/25\n",
            " - 7s - loss: 3.5467 - mse: 3.5467 - root_mean_squared_error: 1.7010\n",
            "Epoch 12/25\n",
            " - 7s - loss: 3.3224 - mse: 3.3224 - root_mean_squared_error: 1.6438\n",
            "Epoch 13/25\n",
            " - 8s - loss: 2.8223 - mse: 2.8223 - root_mean_squared_error: 1.5285\n",
            "Epoch 14/25\n",
            " - 7s - loss: 2.6944 - mse: 2.6944 - root_mean_squared_error: 1.4827\n",
            "Epoch 15/25\n",
            " - 7s - loss: 2.4345 - mse: 2.4345 - root_mean_squared_error: 1.4186\n",
            "Epoch 16/25\n",
            " - 7s - loss: 2.4472 - mse: 2.4472 - root_mean_squared_error: 1.4069\n",
            "Epoch 17/25\n",
            " - 7s - loss: 2.2401 - mse: 2.2401 - root_mean_squared_error: 1.3482\n",
            "Epoch 18/25\n",
            " - 7s - loss: 2.1330 - mse: 2.1330 - root_mean_squared_error: 1.3194\n",
            "Epoch 19/25\n",
            " - 7s - loss: 2.1144 - mse: 2.1144 - root_mean_squared_error: 1.2972\n",
            "Epoch 20/25\n",
            " - 7s - loss: 1.9444 - mse: 1.9444 - root_mean_squared_error: 1.2572\n",
            "Epoch 21/25\n",
            " - 7s - loss: 1.8483 - mse: 1.8483 - root_mean_squared_error: 1.2336\n",
            "Epoch 22/25\n",
            " - 7s - loss: 1.7884 - mse: 1.7884 - root_mean_squared_error: 1.2177\n",
            "Epoch 23/25\n",
            " - 7s - loss: 1.7781 - mse: 1.7781 - root_mean_squared_error: 1.1979\n",
            "Epoch 24/25\n",
            " - 7s - loss: 1.6446 - mse: 1.6446 - root_mean_squared_error: 1.1606\n",
            "Epoch 25/25\n",
            " - 7s - loss: 1.5598 - mse: 1.5598 - root_mean_squared_error: 1.1294\n",
            "MSE:  125.05243284307983\n",
            "RMSE:  11.182684509681915\n",
            "CPU times: user 2 µs, sys: 1e+03 ns, total: 3 µs\n",
            "Wall time: 5.25 µs\n"
          ],
          "name": "stdout"
        }
      ]
    },
    {
      "cell_type": "code",
      "metadata": {
        "id": "hHkvAM7XKMfZ",
        "colab_type": "code",
        "colab": {
          "base_uri": "https://localhost:8080/",
          "height": 86
        },
        "outputId": "3a05e15d-3852-4f2b-b50f-b9641ffb64e7"
      },
      "source": [
        "u_model = KerasRegressor(build_fn=baseline_model, epochs=10, batch_size=10, verbose=1)\n",
        " \n",
        "dependencies = {\n",
        "    'root_mean_squared_error': root_mean_squared_error\n",
        "}\n",
        "u_model.model = load_model('saved_u_model1.h5', custom_objects=dependencies)\n",
        " \n",
        "train_u_pred = u_model.predict(train_120u)\n",
        "test_u_pred = u_model.predict(test_120u)\n",
        "print(\"train_120u RMSE: \", mean_squared_error(u_label_train, train_u_pred, squared=False)) \n",
        "print(\"test_120u RMSE: \", mean_squared_error(u_label_test, test_u_pred, squared=False))"
      ],
      "execution_count": null,
      "outputs": [
        {
          "output_type": "stream",
          "text": [
            "16877/16877 [==============================] - 1s 66us/step\n",
            "2706/2706 [==============================] - 0s 66us/step\n",
            "train_120u RMSE:  1.1272517218989004\n",
            "test_120u RMSE:  11.182684509681915\n"
          ],
          "name": "stdout"
        }
      ]
    },
    {
      "cell_type": "code",
      "metadata": {
        "id": "q9vZk9JwLYVu",
        "colab_type": "code",
        "colab": {}
      },
      "source": [
        "# saving predictions \n",
        " \n",
        "np.save('nn_u_best', test_u_pred)"
      ],
      "execution_count": null,
      "outputs": []
    },
    {
      "cell_type": "code",
      "metadata": {
        "id": "9wXo-fODr5Ug",
        "colab_type": "code",
        "colab": {
          "base_uri": "https://localhost:8080/",
          "height": 52
        },
        "outputId": "817b420c-80ec-4646-bc86-2a3148eb9820"
      },
      "source": [
        "train_d_pred = np.load('nn_d_best.npy')\n",
        "train_d_pred"
      ],
      "execution_count": null,
      "outputs": [
        {
          "output_type": "execute_result",
          "data": {
            "text/plain": [
              "array([57.448925, 56.871788, 57.24326 , ..., 72.10927 , 71.99496 ,\n",
              "       71.622765], dtype=float32)"
            ]
          },
          "metadata": {
            "tags": []
          },
          "execution_count": 86
        }
      ]
    },
    {
      "cell_type": "code",
      "metadata": {
        "id": "Lvj1a2VhWO5m",
        "colab_type": "code",
        "colab": {}
      },
      "source": [
        "d_df = pd.DataFrame()\n",
        "d_df['WAFER_ID'] = wafer_120d\n",
        "d_df['STAGE'] = stage_120d\n",
        "d_df['AVG_REMOVAL_RATE'] = test_d_pred\n",
        " \n",
        "u_df = pd.DataFrame()\n",
        "u_df['WAFER_ID'] = wafer_120u\n",
        "u_df['STAGE'] = stage_120u\n",
        "u_df['AVG_REMOVAL_RATE'] = test_u_pred"
      ],
      "execution_count": null,
      "outputs": []
    },
    {
      "cell_type": "code",
      "metadata": {
        "id": "ZVxVmEqP1MCo",
        "colab_type": "code",
        "colab": {
          "base_uri": "https://localhost:8080/",
          "height": 206
        },
        "outputId": "d7c2e88c-e116-4405-c9be-914da74b9769"
      },
      "source": [
        "d_df.head()"
      ],
      "execution_count": null,
      "outputs": [
        {
          "output_type": "execute_result",
          "data": {
            "text/html": [
              "<div>\n",
              "<style scoped>\n",
              "    .dataframe tbody tr th:only-of-type {\n",
              "        vertical-align: middle;\n",
              "    }\n",
              "\n",
              "    .dataframe tbody tr th {\n",
              "        vertical-align: top;\n",
              "    }\n",
              "\n",
              "    .dataframe thead th {\n",
              "        text-align: right;\n",
              "    }\n",
              "</style>\n",
              "<table border=\"1\" class=\"dataframe\">\n",
              "  <thead>\n",
              "    <tr style=\"text-align: right;\">\n",
              "      <th></th>\n",
              "      <th>WAFER_ID</th>\n",
              "      <th>STAGE</th>\n",
              "      <th>AVG_REMOVAL_RATE</th>\n",
              "    </tr>\n",
              "  </thead>\n",
              "  <tbody>\n",
              "    <tr>\n",
              "      <th>281</th>\n",
              "      <td>-4224160592</td>\n",
              "      <td>A</td>\n",
              "      <td>57.448936</td>\n",
              "    </tr>\n",
              "    <tr>\n",
              "      <th>282</th>\n",
              "      <td>-4224160592</td>\n",
              "      <td>A</td>\n",
              "      <td>56.871792</td>\n",
              "    </tr>\n",
              "    <tr>\n",
              "      <th>283</th>\n",
              "      <td>-4224160592</td>\n",
              "      <td>A</td>\n",
              "      <td>57.243256</td>\n",
              "    </tr>\n",
              "    <tr>\n",
              "      <th>284</th>\n",
              "      <td>-4224160592</td>\n",
              "      <td>A</td>\n",
              "      <td>57.562473</td>\n",
              "    </tr>\n",
              "    <tr>\n",
              "      <th>285</th>\n",
              "      <td>-4224160592</td>\n",
              "      <td>A</td>\n",
              "      <td>57.949848</td>\n",
              "    </tr>\n",
              "  </tbody>\n",
              "</table>\n",
              "</div>"
            ],
            "text/plain": [
              "        WAFER_ID STAGE  AVG_REMOVAL_RATE\n",
              "281  -4224160592     A         57.448936\n",
              "282  -4224160592     A         56.871792\n",
              "283  -4224160592     A         57.243256\n",
              "284  -4224160592     A         57.562473\n",
              "285  -4224160592     A         57.949848"
            ]
          },
          "metadata": {
            "tags": []
          },
          "execution_count": 164
        }
      ]
    },
    {
      "cell_type": "code",
      "metadata": {
        "id": "ocagvLCK2aU5",
        "colab_type": "code",
        "colab": {
          "base_uri": "https://localhost:8080/",
          "height": 206
        },
        "outputId": "6cec85b4-3dac-4d59-9a32-9988942e0dc9"
      },
      "source": [
        "u_df.head()"
      ],
      "execution_count": null,
      "outputs": [
        {
          "output_type": "execute_result",
          "data": {
            "text/html": [
              "<div>\n",
              "<style scoped>\n",
              "    .dataframe tbody tr th:only-of-type {\n",
              "        vertical-align: middle;\n",
              "    }\n",
              "\n",
              "    .dataframe tbody tr th {\n",
              "        vertical-align: top;\n",
              "    }\n",
              "\n",
              "    .dataframe thead th {\n",
              "        text-align: right;\n",
              "    }\n",
              "</style>\n",
              "<table border=\"1\" class=\"dataframe\">\n",
              "  <thead>\n",
              "    <tr style=\"text-align: right;\">\n",
              "      <th></th>\n",
              "      <th>WAFER_ID</th>\n",
              "      <th>STAGE</th>\n",
              "      <th>AVG_REMOVAL_RATE</th>\n",
              "    </tr>\n",
              "  </thead>\n",
              "  <tbody>\n",
              "    <tr>\n",
              "      <th>9</th>\n",
              "      <td>373446766</td>\n",
              "      <td>A</td>\n",
              "      <td>159.334503</td>\n",
              "    </tr>\n",
              "    <tr>\n",
              "      <th>10</th>\n",
              "      <td>373446766</td>\n",
              "      <td>A</td>\n",
              "      <td>158.630264</td>\n",
              "    </tr>\n",
              "    <tr>\n",
              "      <th>11</th>\n",
              "      <td>373446766</td>\n",
              "      <td>A</td>\n",
              "      <td>157.716614</td>\n",
              "    </tr>\n",
              "    <tr>\n",
              "      <th>12</th>\n",
              "      <td>373446766</td>\n",
              "      <td>A</td>\n",
              "      <td>156.100159</td>\n",
              "    </tr>\n",
              "    <tr>\n",
              "      <th>13</th>\n",
              "      <td>373446766</td>\n",
              "      <td>A</td>\n",
              "      <td>155.418457</td>\n",
              "    </tr>\n",
              "  </tbody>\n",
              "</table>\n",
              "</div>"
            ],
            "text/plain": [
              "     WAFER_ID STAGE  AVG_REMOVAL_RATE\n",
              "9   373446766     A        159.334503\n",
              "10  373446766     A        158.630264\n",
              "11  373446766     A        157.716614\n",
              "12  373446766     A        156.100159\n",
              "13  373446766     A        155.418457"
            ]
          },
          "metadata": {
            "tags": []
          },
          "execution_count": 165
        }
      ]
    },
    {
      "cell_type": "code",
      "metadata": {
        "id": "GtH8Cp_-4Xa9",
        "colab_type": "code",
        "colab": {}
      },
      "source": [
        "d_df.to_csv('test_120d.csv', index=0)\n",
        "u_df.to_csv('test_120u.csv', index=0)"
      ],
      "execution_count": null,
      "outputs": []
    },
    {
      "cell_type": "code",
      "metadata": {
        "id": "yx7zAs9q40T8",
        "colab_type": "code",
        "colab": {
          "base_uri": "https://localhost:8080/",
          "height": 68
        },
        "outputId": "c7314c97-4781-4364-db75-e69e755c0283"
      },
      "source": [
        "d_df['STAGE'].value_counts()"
      ],
      "execution_count": null,
      "outputs": [
        {
          "output_type": "execute_result",
          "data": {
            "text/plain": [
              "A    61343\n",
              "B    55457\n",
              "Name: STAGE, dtype: int64"
            ]
          },
          "metadata": {
            "tags": []
          },
          "execution_count": 174
        }
      ]
    },
    {
      "cell_type": "code",
      "metadata": {
        "id": "NyNfGUFRHTxL",
        "colab_type": "code",
        "colab": {}
      },
      "source": [
        ""
      ],
      "execution_count": null,
      "outputs": []
    }
  ]
}