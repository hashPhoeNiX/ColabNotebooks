{
  "nbformat": 4,
  "nbformat_minor": 0,
  "metadata": {
    "colab": {
      "name": "Marine Invertebrates Indentification.ipynb",
      "provenance": [],
      "authorship_tag": "ABX9TyMfNgmZWHDYzlOZXPsLcaeQ",
      "include_colab_link": true
    },
    "kernelspec": {
      "name": "python3",
      "display_name": "Python 3"
    },
    "accelerator": "GPU"
  },
  "cells": [
    {
      "cell_type": "markdown",
      "metadata": {
        "id": "view-in-github",
        "colab_type": "text"
      },
      "source": [
        "<a href=\"https://colab.research.google.com/github/hashPhoeNiX/ColabNotebooks/blob/master/Marine_Invertebrates_Indentification.ipynb\" target=\"_parent\"><img src=\"https://colab.research.google.com/assets/colab-badge.svg\" alt=\"Open In Colab\"/></a>"
      ]
    },
    {
      "cell_type": "markdown",
      "metadata": {
        "id": "BXPUJWFiDcUO",
        "colab_type": "text"
      },
      "source": [
        "## Splitting data into train and validation set"
      ]
    },
    {
      "cell_type": "code",
      "metadata": {
        "id": "JA5derPdDbeA",
        "colab_type": "code",
        "colab": {}
      },
      "source": [
        "# !pip install split-folders tqdm"
      ],
      "execution_count": null,
      "outputs": []
    },
    {
      "cell_type": "code",
      "metadata": {
        "id": "mxmGFfQgJ9nF",
        "colab_type": "code",
        "colab": {}
      },
      "source": [
        "# import split_folders\n",
        "\n",
        "# split_folders.ratio('train_small', output='data', seed=1337, ratio=(.8, .1, .1))"
      ],
      "execution_count": null,
      "outputs": []
    },
    {
      "cell_type": "markdown",
      "metadata": {
        "id": "4xq9BX4GDi7P",
        "colab_type": "text"
      },
      "source": [
        "## Import Libraries"
      ]
    },
    {
      "cell_type": "code",
      "metadata": {
        "id": "--KkOLoB44X8",
        "colab_type": "code",
        "colab": {}
      },
      "source": [
        "%matplotlib inline\n",
        "%config InlineBackend.figure_format = 'retina'\n",
        " \n",
        "import matplotlib.pyplot as plt\n",
        "from PIL import Image\n",
        " \n",
        "import numpy as np\n",
        "import torch\n",
        "from torch import nn\n",
        "from torch import optim\n",
        "import torch.nn.functional as F\n",
        "from torchvision import datasets, transforms, models\n",
        "from torch.utils.data import random_split"
      ],
      "execution_count": null,
      "outputs": []
    },
    {
      "cell_type": "markdown",
      "metadata": {
        "id": "296IZ2Rp7qhO",
        "colab_type": "text"
      },
      "source": [
        "## Data Augmentation"
      ]
    },
    {
      "cell_type": "code",
      "metadata": {
        "id": "mOGHMGgU5CQA",
        "colab_type": "code",
        "colab": {}
      },
      "source": [
        "train_dir = 'data/train/'\n",
        "valid_dir = 'data/val'\n",
        "test_dir = 'data/test'"
      ],
      "execution_count": null,
      "outputs": []
    },
    {
      "cell_type": "markdown",
      "metadata": {
        "id": "PfnuDLHsOY9P",
        "colab_type": "text"
      },
      "source": [
        "## An idea\n"
      ]
    },
    {
      "cell_type": "code",
      "metadata": {
        "id": "E8fq22NuOXbz",
        "colab_type": "code",
        "colab": {}
      },
      "source": [
        "# doing data augmentation \n",
        "train_transform = transforms.Compose([transforms.Resize((224,224)),\n",
        "                                      transforms.RandomRotation(45),\n",
        "                                      transforms.RandomHorizontalFlip(),\n",
        "                                      transforms.RandomVerticalFlip(),\n",
        "                                      transforms.ToTensor(),\n",
        "                                      transforms.Normalize([0.485, 0.456, 0.406], \n",
        "                                                           [0.229, 0.224, 0.225])])\n",
        "\n",
        "val_transform = transforms.Compose([transforms.Resize((224,224)),\n",
        "                                    transforms.RandomRotation(45),\n",
        "                                    transforms.RandomHorizontalFlip(),\n",
        "                                    transforms.RandomVerticalFlip(),\n",
        "                                    transforms.ToTensor(),\n",
        "                                    transforms.Normalize([0.485, 0.456, 0.406], \n",
        "                                                         [0.229, 0.224, 0.225])])\n",
        "\n",
        "test_transform = transforms.Compose([transforms.Resize((224,224)),\n",
        "                                     transforms.ToTensor(),\n",
        "                                    transforms.Normalize([0.485, 0.456, 0.406], \n",
        "                                                         [0.229, 0.224, 0.225])])"
      ],
      "execution_count": null,
      "outputs": []
    },
    {
      "cell_type": "code",
      "metadata": {
        "id": "PAfAAaJ-OX82",
        "colab_type": "code",
        "colab": {
          "base_uri": "https://localhost:8080/",
          "height": 69
        },
        "outputId": "1a38288d-5686-403a-c188-6dbe39a73e86"
      },
      "source": [
        "# splitting the data into train/validation/test sets\n",
        "data = datasets.ImageFolder('train_small')\n",
        "train_size = int(len(data)*0.9)\n",
        "val_size = int((len(data)-train_size)*0.7)\n",
        "test_size = int(len(data)-train_size-val_size)\n",
        "train_data,val_data,test_data = random_split(data,[train_size,val_size,test_size])\n",
        "print(f'train size: {len(train_data)}\\nval size: {len(val_data)}\\ntest size: {len(test_data)}')"
      ],
      "execution_count": null,
      "outputs": [
        {
          "output_type": "stream",
          "text": [
            "train size: 2799\n",
            "val size: 218\n",
            "test size: 94\n"
          ],
          "name": "stdout"
        }
      ]
    },
    {
      "cell_type": "code",
      "metadata": {
        "id": "AOHkoihmOWV-",
        "colab_type": "code",
        "colab": {}
      },
      "source": [
        "train_data.dataset.transform = train_transform\n",
        "val_data.dataset.transform = val_transform\n",
        "test_data.dataset.transform = test_transform\n",
        "\n",
        "batch_size = 16\n",
        "trainloader = torch.utils.data.DataLoader(train_data,batch_size=batch_size,shuffle=True)\n",
        "validloader = torch.utils.data.DataLoader(val_data,batch_size=batch_size,shuffle=True)\n",
        "testloader = torch.utils.data.DataLoader(test_data,batch_size=batch_size,shuffle=False)"
      ],
      "execution_count": null,
      "outputs": []
    },
    {
      "cell_type": "code",
      "metadata": {
        "id": "fxY4T6MPOWCp",
        "colab_type": "code",
        "colab": {}
      },
      "source": [
        ""
      ],
      "execution_count": null,
      "outputs": []
    },
    {
      "cell_type": "markdown",
      "metadata": {
        "id": "RnnxOcZ_OdBw",
        "colab_type": "text"
      },
      "source": [
        "## Original idea\n"
      ]
    },
    {
      "cell_type": "code",
      "metadata": {
        "id": "KvMsRQgS5JWH",
        "colab_type": "code",
        "colab": {}
      },
      "source": [
        "# train_transform = transforms.Compose([transforms.RandomRotation(30),\n",
        "#                                        transforms.RandomResizedCrop(299),\n",
        "#                                        transforms.RandomHorizontalFlip(),\n",
        "#                                        transforms.ToTensor()\n",
        "#                                       ])\n",
        "# test_transform = transforms.Compose([transforms.RandomResizedCrop(299),\n",
        "#                                       transforms.ToTensor()\n",
        "#                                     ])\n",
        " \n",
        "# trainset = datasets.ImageFolder(train_dir, transform=train_transform)\n",
        "# validset = datasets.ImageFolder(valid_dir, transform=test_transform)\n",
        "# testset = datasets.ImageFolder(test_dir, transform=test_transform)"
      ],
      "execution_count": null,
      "outputs": []
    },
    {
      "cell_type": "code",
      "metadata": {
        "id": "fCa-5jaw7JPa",
        "colab_type": "code",
        "colab": {}
      },
      "source": [
        "# trainloader = torch.utils.data.DataLoader(trainset, shuffle=True, batch_size=32)\n",
        "# validloader = torch.utils.data.DataLoader(validset, shuffle=True, batch_size=32)\n",
        "# testloader = torch.utils.data.DataLoader(testset, shuffle=False, batch_size=32)"
      ],
      "execution_count": null,
      "outputs": []
    },
    {
      "cell_type": "code",
      "metadata": {
        "id": "qHI1Lgt-R3Kf",
        "colab_type": "code",
        "colab": {
          "base_uri": "https://localhost:8080/",
          "height": 34
        },
        "outputId": "736a0449-e797-472a-f283-6948ed3517ee"
      },
      "source": [
        "# len(trainset) + len(testset) + len(validset)"
      ],
      "execution_count": null,
      "outputs": [
        {
          "output_type": "execute_result",
          "data": {
            "text/plain": [
              "3111"
            ]
          },
          "metadata": {
            "tags": []
          },
          "execution_count": 8
        }
      ]
    },
    {
      "cell_type": "markdown",
      "metadata": {
        "id": "ugBXhYLdAcLv",
        "colab_type": "text"
      },
      "source": [
        "## Transfer Learning"
      ]
    },
    {
      "cell_type": "code",
      "metadata": {
        "id": "n8XJ_xZJNC3Q",
        "colab_type": "code",
        "colab": {}
      },
      "source": [
        "def imshow_original(image, ax=None, title=None, normalize=True):\n",
        "    \"\"\"Imshow for Tensor.\"\"\"\n",
        "    if ax is None:\n",
        "        fig, ax = plt.subplots()\n",
        "    image = image.transpose((1, 2, 0))\n",
        " \n",
        "    if normalize:\n",
        "        mean = np.array([0.485, 0.456, 0.406])\n",
        "        std = np.array([0.229, 0.224, 0.225])\n",
        "        image = std * image + mean\n",
        "        image = np.clip(image, 0, 1)\n",
        " \n",
        "    ax.imshow(image)\n",
        "    ax.spines['top'].set_visible(False)\n",
        "    ax.spines['right'].set_visible(False)\n",
        "    ax.spines['left'].set_visible(False)\n",
        "    ax.spines['bottom'].set_visible(False)\n",
        "    ax.tick_params(axis='both', length=0)\n",
        "    ax.set_xticklabels('')\n",
        "    ax.set_yticklabels('')\n",
        " \n",
        "    return ax"
      ],
      "execution_count": null,
      "outputs": []
    },
    {
      "cell_type": "code",
      "metadata": {
        "id": "XGyq4XaR_zbm",
        "colab_type": "code",
        "colab": {
          "base_uri": "https://localhost:8080/",
          "height": 69
        },
        "outputId": "69dbd0c8-29b2-427e-b655-91cdad1fd498"
      },
      "source": [
        "dataiter = iter(trainloader)\n",
        "images, labels = dataiter.next()\n",
        "print(type(images))\n",
        "print(images.shape)\n",
        "print(labels.shape)\n",
        " \n",
        "# imshow_original(images)"
      ],
      "execution_count": null,
      "outputs": [
        {
          "output_type": "stream",
          "text": [
            "<class 'torch.Tensor'>\n",
            "torch.Size([16, 3, 224, 224])\n",
            "torch.Size([16])\n"
          ],
          "name": "stdout"
        }
      ]
    },
    {
      "cell_type": "code",
      "metadata": {
        "id": "DZkXucDL8XMV",
        "colab_type": "code",
        "colab": {
          "base_uri": "https://localhost:8080/",
          "height": 34
        },
        "outputId": "8e3b5887-4aba-443a-86ec-3525ac1ee009"
      },
      "source": [
        "device = torch.device(\"cuda\" if torch.cuda.is_available() else \"cpu\")\n",
        "device"
      ],
      "execution_count": null,
      "outputs": [
        {
          "output_type": "execute_result",
          "data": {
            "text/plain": [
              "device(type='cuda')"
            ]
          },
          "metadata": {
            "tags": []
          },
          "execution_count": 16
        }
      ]
    },
    {
      "cell_type": "markdown",
      "metadata": {
        "id": "qS-8TATZASWH",
        "colab_type": "text"
      },
      "source": [
        "## Model Training using VGG Pretrained Network\n"
      ]
    },
    {
      "cell_type": "code",
      "metadata": {
        "id": "IdSfKC68fN_f",
        "colab_type": "code",
        "colab": {}
      },
      "source": [
        "# defining model evaluation function\n",
        " \n",
        "def evaluation(dataloader, model):\n",
        "    total, correct = 0, 0\n",
        "    for data in dataloader:\n",
        "        inputs, labels = data\n",
        "        inputs, labels = inputs.to(device), labels.to(device)\n",
        "        outputs = model(inputs)\n",
        "        _, pred = torch.max(outputs.data, 1)\n",
        "        total += labels.size(0)\n",
        "        correct += (pred == labels).sum().item()\n",
        "    return (100 * correct / total)"
      ],
      "execution_count": null,
      "outputs": []
    },
    {
      "cell_type": "code",
      "metadata": {
        "id": "vL7FrknjfJUS",
        "colab_type": "code",
        "colab": {
          "base_uri": "https://localhost:8080/",
          "height": 52
        },
        "outputId": "2bb20cab-f5f3-4d79-9594-0dfb7e9b45e0"
      },
      "source": [
        "# Loading Pretrained Network from torchvision.models\n",
        "vgg = models.vgg16_bn(pretrained=False)\n",
        " \n",
        "# Freezing the model parameters\n",
        "for param in vgg.parameters():\n",
        "    param.requires_grad = False\n",
        " \n",
        "# Building a new vgg model classifier\n",
        "final_in_features = vgg.classifier[6].in_features\n",
        "vgg.classifier[6] = nn.Linear(final_in_features, 137)\n",
        "for param in vgg.parameters():\n",
        "    if param.requires_grad:\n",
        "        print(param.shape)\n",
        " \n",
        "# define loss and model optimizer\n",
        "vgg = vgg.to(device)\n",
        "loss_fn = nn.CrossEntropyLoss()\n",
        "opt = optim.Adam(vgg.parameters(),lr=0.003)"
      ],
      "execution_count": null,
      "outputs": [
        {
          "output_type": "stream",
          "text": [
            "torch.Size([137, 4096])\n",
            "torch.Size([137])\n"
          ],
          "name": "stdout"
        }
      ]
    },
    {
      "cell_type": "code",
      "metadata": {
        "id": "1y65Fm5kfF36",
        "colab_type": "code",
        "colab": {
          "base_uri": "https://localhost:8080/",
          "height": 694
        },
        "outputId": "3533c446-8199-499a-bcdf-bc858cb413d3"
      },
      "source": [
        "# %%time\n",
        "# import copy\n",
        " \n",
        "# loss_epoch_arr = []\n",
        "# max_epochs = 15\n",
        "# batch_size = 32\n",
        "# min_loss = 10000000\n",
        " \n",
        "# n_iters = np.ceil(5300/batch_size)\n",
        " \n",
        "# for epoch in range(max_epochs):\n",
        " \n",
        "#     for i, data in enumerate(trainloader, 0):\n",
        " \n",
        "#         inputs, labels = data\n",
        "#         inputs, labels = inputs.to(device), labels.to(device)\n",
        " \n",
        "#         opt.zero_grad()\n",
        " \n",
        "#         outputs = vgg(inputs)\n",
        "#         loss = loss_fn(outputs, labels)\n",
        "#         loss.backward()\n",
        "#         opt.step()\n",
        "        \n",
        "#         if min_loss > loss.item():\n",
        "#             min_loss = loss.item()\n",
        "#             best_model = copy.deepcopy(vgg.state_dict())\n",
        "#             print('Min loss %0.2f' % min_loss)\n",
        "        \n",
        "#         if i % 100 == 0:\n",
        "#             print('Iteration: %d/%d, Loss: %0.2f' % (i, n_iters, loss.item()))\n",
        "            \n",
        "#         del inputs, labels, outputs\n",
        "#         torch.cuda.empty_cache()\n",
        "        \n",
        "#     loss_epoch_arr.append(loss.item())\n",
        " \n",
        "# vgg.load_state_dict(best_model)\n",
        "# print(evaluation(trainloader, vgg), evaluation(validloader, vgg))"
      ],
      "execution_count": null,
      "outputs": [
        {
          "output_type": "stream",
          "text": [
            "Min loss 5.30\n",
            "Iteration: 0/166, Loss: 5.30\n",
            "Min loss 5.23\n",
            "Iteration: 100/166, Loss: 5.23\n",
            "Iteration: 0/166, Loss: 7.86\n",
            "Iteration: 100/166, Loss: 7.75\n",
            "Iteration: 0/166, Loss: 9.49\n",
            "Iteration: 100/166, Loss: 6.56\n",
            "Iteration: 0/166, Loss: 14.45\n",
            "Iteration: 100/166, Loss: 9.42\n",
            "Iteration: 0/166, Loss: 9.51\n",
            "Min loss 4.99\n",
            "Iteration: 100/166, Loss: 8.05\n",
            "Min loss 4.89\n",
            "Iteration: 0/166, Loss: 10.30\n",
            "Iteration: 100/166, Loss: 9.86\n",
            "Iteration: 0/166, Loss: 11.13\n",
            "Iteration: 100/166, Loss: 11.13\n",
            "Iteration: 0/166, Loss: 6.04\n",
            "Iteration: 100/166, Loss: 7.07\n",
            "Iteration: 0/166, Loss: 12.47\n",
            "Iteration: 100/166, Loss: 9.31\n",
            "Iteration: 0/166, Loss: 11.00\n",
            "Iteration: 100/166, Loss: 8.82\n",
            "Min loss 4.74\n",
            "Iteration: 0/166, Loss: 9.67\n",
            "Iteration: 100/166, Loss: 11.15\n",
            "Iteration: 0/166, Loss: 11.50\n",
            "Iteration: 100/166, Loss: 12.42\n",
            "Iteration: 0/166, Loss: 9.21\n",
            "Iteration: 100/166, Loss: 7.22\n",
            "Iteration: 0/166, Loss: 9.86\n",
            "Iteration: 100/166, Loss: 10.90\n",
            "Iteration: 0/166, Loss: 16.23\n",
            "Iteration: 100/166, Loss: 13.04\n",
            "Min loss 4.52\n",
            "16.720257234726688 9.63302752293578\n",
            "CPU times: user 8min 59s, sys: 3min 28s, total: 12min 28s\n",
            "Wall time: 36min 55s\n"
          ],
          "name": "stdout"
        }
      ]
    },
    {
      "cell_type": "code",
      "metadata": {
        "id": "AFHCrxk7TBgI",
        "colab_type": "code",
        "colab": {}
      },
      "source": [
        "import time\n",
        "\n",
        "def fit(model, criterion, optimizer, num_epochs=10):\n",
        "    start = time.time()\n",
        "    best_model = model.state_dict()\n",
        "    best_acc = 0.0\n",
        "    train_loss_over_time = []\n",
        "    val_loss_over_time = []\n",
        "    train_acc_over_time = []\n",
        "    val_acc_over_time = []\n",
        "    \n",
        "    # each epoch has a training and validation phase\n",
        "    for epoch in range(num_epochs):\n",
        "        print(f'{epoch+1}/{num_epochs} epoch')\n",
        "        \n",
        "        for phase in ['train','val']:\n",
        "            \n",
        "            if phase == 'train':\n",
        "                data_loader = trainloader\n",
        "                model.train()                    # set the model to train mode\n",
        "            else:\n",
        "                data_loader = validloader\n",
        "                model.eval()                    # set the model to evaluate mode\n",
        "                \n",
        "            running_loss = 0.0\n",
        "            running_corrects = 0.0\n",
        "            \n",
        "            # iterate over the data\n",
        "            for inputs,labels in data_loader:\n",
        "                inputs = inputs.to(device)\n",
        "                labels = labels.to(device)\n",
        "                \n",
        "                # zero the parameter gradients\n",
        "                optimizer.zero_grad()\n",
        "                \n",
        "                # forward\n",
        "                with torch.set_grad_enabled(phase == 'train'):\n",
        "                    outputs = model(inputs)\n",
        "                    _,pred = torch.max(outputs,dim=1)\n",
        "                    loss = criterion(outputs,labels)\n",
        "                    \n",
        "                    # backward + optimize only if in training phase\n",
        "                    if phase == 'train':\n",
        "                        loss.backward()\n",
        "                        optimizer.step()\n",
        "                \n",
        "                # calculating the loss and accuracy\n",
        "                running_loss += loss.item() * inputs.size(0)\n",
        "                running_corrects += torch.sum(pred == labels.data)\n",
        "                \n",
        "            if phase == 'train':\n",
        "                epoch_loss = running_loss/len(train_data)\n",
        "                train_loss_over_time.append(epoch_loss)\n",
        "                epoch_acc = running_corrects.double()/len(train_data)\n",
        "                train_acc_over_time.append(epoch_acc)\n",
        "            else:\n",
        "                epoch_loss = running_loss/len(val_data)\n",
        "                val_loss_over_time.append(epoch_loss)\n",
        "                epoch_acc = running_corrects.double()/len(val_data)\n",
        "                val_acc_over_time.append(epoch_acc)\n",
        "                \n",
        "            print(f'{phase} loss: {epoch_loss:.3f}, acc: {epoch_acc:.3f}')\n",
        "            \n",
        "            if phase == 'val' and epoch_acc > best_acc:\n",
        "                best_acc = epoch_acc\n",
        "                best_model = model.state_dict()\n",
        "                \n",
        "        print('-'*60)\n",
        "    \n",
        "    total_time = (time.time() - start)/60\n",
        "    print(f'training complete in: {total_time:.3f} min\\nbest accuracy: {best_acc:.3f}')\n",
        "    # load best model weights\n",
        "    model.load_state_dict(best_model)\n",
        "    loss = {'train':train_loss_over_time, 'val':val_loss_over_time}\n",
        "    acc = {'train':train_acc_over_time, 'val':val_acc_over_time}\n",
        "    return model,loss,acc"
      ],
      "execution_count": null,
      "outputs": []
    },
    {
      "cell_type": "code",
      "metadata": {
        "id": "XGucnlsTTQtO",
        "colab_type": "code",
        "colab": {
          "base_uri": "https://localhost:8080/",
          "height": 1000
        },
        "outputId": "26994051-40f7-4121-abd9-a1f52f8f10e6"
      },
      "source": [
        "%time\n",
        "epochs = 50\n",
        "history, loss, acc = fit(vgg,loss_fn,opt,num_epochs=epochs)"
      ],
      "execution_count": null,
      "outputs": [
        {
          "output_type": "stream",
          "text": [
            "CPU times: user 4 µs, sys: 0 ns, total: 4 µs\n",
            "Wall time: 8.34 µs\n",
            "1/50 epoch\n",
            "train loss: 11.652, acc: 0.255\n",
            "val loss: 7.844, acc: 0.284\n",
            "------------------------------------------------------------\n",
            "2/50 epoch\n",
            "train loss: 12.185, acc: 0.234\n",
            "val loss: 9.289, acc: 0.225\n",
            "------------------------------------------------------------\n",
            "3/50 epoch\n",
            "train loss: 11.603, acc: 0.268\n",
            "val loss: 7.544, acc: 0.248\n",
            "------------------------------------------------------------\n",
            "4/50 epoch\n",
            "train loss: 12.170, acc: 0.252\n",
            "val loss: 7.811, acc: 0.284\n",
            "------------------------------------------------------------\n",
            "5/50 epoch\n",
            "train loss: 11.515, acc: 0.255\n",
            "val loss: 7.757, acc: 0.275\n",
            "------------------------------------------------------------\n",
            "6/50 epoch\n",
            "train loss: 12.096, acc: 0.239\n",
            "val loss: 7.519, acc: 0.243\n",
            "------------------------------------------------------------\n",
            "7/50 epoch\n",
            "train loss: 11.977, acc: 0.251\n",
            "val loss: 8.232, acc: 0.261\n",
            "------------------------------------------------------------\n",
            "8/50 epoch\n",
            "train loss: 11.726, acc: 0.261\n",
            "val loss: 8.481, acc: 0.280\n",
            "------------------------------------------------------------\n",
            "9/50 epoch\n",
            "train loss: 12.041, acc: 0.258\n",
            "val loss: 8.622, acc: 0.225\n",
            "------------------------------------------------------------\n",
            "10/50 epoch\n",
            "train loss: 12.060, acc: 0.260\n",
            "val loss: 8.267, acc: 0.275\n",
            "------------------------------------------------------------\n",
            "11/50 epoch\n",
            "train loss: 12.125, acc: 0.259\n",
            "val loss: 7.356, acc: 0.284\n",
            "------------------------------------------------------------\n",
            "12/50 epoch\n",
            "train loss: 12.220, acc: 0.253\n",
            "val loss: 8.124, acc: 0.266\n",
            "------------------------------------------------------------\n",
            "13/50 epoch\n",
            "train loss: 12.317, acc: 0.253\n",
            "val loss: 7.592, acc: 0.303\n",
            "------------------------------------------------------------\n",
            "14/50 epoch\n",
            "train loss: 11.934, acc: 0.264\n",
            "val loss: 8.243, acc: 0.280\n",
            "------------------------------------------------------------\n",
            "15/50 epoch\n",
            "train loss: 11.884, acc: 0.275\n",
            "val loss: 8.680, acc: 0.266\n",
            "------------------------------------------------------------\n",
            "16/50 epoch\n",
            "train loss: 12.154, acc: 0.252\n",
            "val loss: 8.183, acc: 0.280\n",
            "------------------------------------------------------------\n",
            "17/50 epoch\n",
            "train loss: 12.277, acc: 0.263\n",
            "val loss: 7.463, acc: 0.294\n",
            "------------------------------------------------------------\n",
            "18/50 epoch\n",
            "train loss: 12.172, acc: 0.258\n",
            "val loss: 8.408, acc: 0.248\n",
            "------------------------------------------------------------\n",
            "19/50 epoch\n",
            "train loss: 12.213, acc: 0.282\n",
            "val loss: 7.923, acc: 0.261\n",
            "------------------------------------------------------------\n",
            "20/50 epoch\n",
            "train loss: 12.343, acc: 0.268\n",
            "val loss: 7.464, acc: 0.298\n",
            "------------------------------------------------------------\n",
            "21/50 epoch\n",
            "train loss: 12.392, acc: 0.252\n",
            "val loss: 8.446, acc: 0.275\n",
            "------------------------------------------------------------\n",
            "22/50 epoch\n",
            "train loss: 12.029, acc: 0.271\n",
            "val loss: 7.908, acc: 0.303\n",
            "------------------------------------------------------------\n",
            "23/50 epoch\n",
            "train loss: 12.494, acc: 0.274\n",
            "val loss: 8.106, acc: 0.280\n",
            "------------------------------------------------------------\n",
            "24/50 epoch\n",
            "train loss: 12.636, acc: 0.255\n",
            "val loss: 7.913, acc: 0.321\n",
            "------------------------------------------------------------\n",
            "25/50 epoch\n",
            "train loss: 12.546, acc: 0.263\n",
            "val loss: 8.094, acc: 0.294\n",
            "------------------------------------------------------------\n",
            "26/50 epoch\n",
            "train loss: 12.100, acc: 0.287\n",
            "val loss: 8.517, acc: 0.266\n",
            "------------------------------------------------------------\n",
            "27/50 epoch\n",
            "train loss: 12.810, acc: 0.257\n",
            "val loss: 8.292, acc: 0.303\n",
            "------------------------------------------------------------\n",
            "28/50 epoch\n",
            "train loss: 12.791, acc: 0.264\n",
            "val loss: 8.236, acc: 0.284\n",
            "------------------------------------------------------------\n",
            "29/50 epoch\n",
            "train loss: 12.588, acc: 0.262\n",
            "val loss: 7.557, acc: 0.326\n",
            "------------------------------------------------------------\n",
            "30/50 epoch\n",
            "train loss: 12.803, acc: 0.261\n",
            "val loss: 7.994, acc: 0.307\n",
            "------------------------------------------------------------\n",
            "31/50 epoch\n",
            "train loss: 12.431, acc: 0.285\n",
            "val loss: 8.389, acc: 0.257\n",
            "------------------------------------------------------------\n",
            "32/50 epoch\n",
            "train loss: 12.162, acc: 0.292\n",
            "val loss: 7.764, acc: 0.307\n",
            "------------------------------------------------------------\n",
            "33/50 epoch\n",
            "train loss: 12.629, acc: 0.275\n",
            "val loss: 8.163, acc: 0.312\n",
            "------------------------------------------------------------\n",
            "34/50 epoch\n",
            "train loss: 12.614, acc: 0.286\n",
            "val loss: 7.901, acc: 0.298\n",
            "------------------------------------------------------------\n",
            "35/50 epoch\n",
            "train loss: 12.481, acc: 0.272\n",
            "val loss: 8.348, acc: 0.294\n",
            "------------------------------------------------------------\n",
            "36/50 epoch\n",
            "train loss: 12.939, acc: 0.274\n",
            "val loss: 7.876, acc: 0.312\n",
            "------------------------------------------------------------\n",
            "37/50 epoch\n",
            "train loss: 12.346, acc: 0.281\n",
            "val loss: 8.495, acc: 0.326\n",
            "------------------------------------------------------------\n",
            "38/50 epoch\n",
            "train loss: 12.384, acc: 0.285\n",
            "val loss: 7.956, acc: 0.284\n",
            "------------------------------------------------------------\n",
            "39/50 epoch\n",
            "train loss: 12.832, acc: 0.279\n",
            "val loss: 8.257, acc: 0.339\n",
            "------------------------------------------------------------\n",
            "40/50 epoch\n",
            "train loss: 12.656, acc: 0.276\n",
            "val loss: 8.300, acc: 0.317\n",
            "------------------------------------------------------------\n",
            "41/50 epoch\n",
            "train loss: 12.596, acc: 0.279\n",
            "val loss: 8.266, acc: 0.294\n",
            "------------------------------------------------------------\n",
            "42/50 epoch\n",
            "train loss: 12.214, acc: 0.302\n",
            "val loss: 8.289, acc: 0.321\n",
            "------------------------------------------------------------\n",
            "43/50 epoch\n",
            "train loss: 12.310, acc: 0.292\n",
            "val loss: 9.617, acc: 0.271\n",
            "------------------------------------------------------------\n",
            "44/50 epoch\n",
            "train loss: 12.427, acc: 0.285\n",
            "val loss: 8.766, acc: 0.317\n",
            "------------------------------------------------------------\n",
            "45/50 epoch\n",
            "train loss: 12.620, acc: 0.288\n",
            "val loss: 8.472, acc: 0.312\n",
            "------------------------------------------------------------\n",
            "46/50 epoch\n",
            "train loss: 12.288, acc: 0.310\n",
            "val loss: 8.724, acc: 0.303\n",
            "------------------------------------------------------------\n",
            "47/50 epoch\n",
            "train loss: 12.708, acc: 0.287\n",
            "val loss: 9.481, acc: 0.257\n",
            "------------------------------------------------------------\n",
            "48/50 epoch\n",
            "train loss: 12.686, acc: 0.287\n",
            "val loss: 9.075, acc: 0.298\n",
            "------------------------------------------------------------\n",
            "49/50 epoch\n",
            "train loss: 12.819, acc: 0.280\n",
            "val loss: 9.300, acc: 0.303\n",
            "------------------------------------------------------------\n",
            "50/50 epoch\n",
            "train loss: 13.022, acc: 0.283\n",
            "val loss: 8.691, acc: 0.298\n",
            "------------------------------------------------------------\n",
            "training complete in: 46.863 min\n",
            "best accuracy: 0.339\n"
          ],
          "name": "stdout"
        }
      ]
    },
    {
      "cell_type": "code",
      "metadata": {
        "id": "TQO9IJLwahKx",
        "colab_type": "code",
        "colab": {}
      },
      "source": [
        "# loss, acc"
      ],
      "execution_count": null,
      "outputs": []
    },
    {
      "cell_type": "code",
      "metadata": {
        "id": "ZxWnsZcodQpi",
        "colab_type": "code",
        "colab": {}
      },
      "source": [
        "def evaluate(model,criterion):\n",
        "    model.eval()       # setting the model to evaluate mode\n",
        "    test_loss = 0.0\n",
        "    test_acc = 0.0\n",
        "    preds = []\n",
        "    labels_list = []\n",
        "    \n",
        "    for inputs,labels in testloader:\n",
        "        \n",
        "        inputs = inputs.to(device)\n",
        "        labels = labels.to(device)\n",
        "        \n",
        "        # predicting\n",
        "        with torch.no_grad():\n",
        "            outputs = model(inputs)\n",
        "            loss = criterion(outputs,labels)\n",
        "            _,pred = torch.max(outputs,dim=1)\n",
        "            preds.append(pred)\n",
        "            labels_list.append(labels)\n",
        "        \n",
        "        # calculating the loss and accuracy \n",
        "        test_loss += loss.item()*inputs.size(0)        \n",
        "        correct = pred.eq(labels.data.view_as(pred))\n",
        "        accuracy = torch.mean(correct.type(torch.FloatTensor))\n",
        "        test_acc += accuracy.item() * inputs.size(0)\n",
        "    \n",
        "    # avreging the loss and accuracy\n",
        "    test_loss = test_loss/len(testloader.dataset)\n",
        "    test_acc = test_acc / len(testloader.dataset)\n",
        "        \n",
        "    print(\"test loss: {:.4f}  test acc: {:.4f}\".format(test_loss,test_acc))\n",
        "    return preds,labels_list"
      ],
      "execution_count": null,
      "outputs": []
    },
    {
      "cell_type": "code",
      "metadata": {
        "id": "oz9dbhVjdddU",
        "colab_type": "code",
        "colab": {
          "base_uri": "https://localhost:8080/",
          "height": 34
        },
        "outputId": "ec79a950-d9c2-4620-ddb2-2cb522fd64bd"
      },
      "source": [
        "# testing the model\n",
        "predictions,labels = evaluate(vgg,loss_fn)"
      ],
      "execution_count": null,
      "outputs": [
        {
          "output_type": "stream",
          "text": [
            "test loss: 8.7219  test acc: 0.2979\n"
          ],
          "name": "stdout"
        }
      ]
    },
    {
      "cell_type": "code",
      "metadata": {
        "id": "wkeZ_Yviklla",
        "colab_type": "code",
        "colab": {}
      },
      "source": [
        "# the model's name\n",
        "model_name = 'model_vgg16.pt'\n",
        "# saving the best trained model\n",
        "torch.save(vgg.state_dict(), model_name)"
      ],
      "execution_count": null,
      "outputs": []
    },
    {
      "cell_type": "code",
      "metadata": {
        "id": "5HgJbrxWgIUN",
        "colab_type": "code",
        "colab": {
          "base_uri": "https://localhost:8080/",
          "height": 54
        },
        "outputId": "58333b73-7644-4946-bd23-a7198bba711c"
      },
      "source": [
        "print(\"Acc on training set is {} and validation set is {}\".format(evaluation(trainloader, vgg),evaluation(validloader, vgg)))"
      ],
      "execution_count": null,
      "outputs": [
        {
          "output_type": "stream",
          "text": [
            "Acc on training set is 77.42050732404431 and validation set is 29.81651376146789\n"
          ],
          "name": "stdout"
        }
      ]
    },
    {
      "cell_type": "code",
      "metadata": {
        "id": "0ILDp8akHynP",
        "colab_type": "code",
        "colab": {
          "base_uri": "https://localhost:8080/",
          "height": 294
        },
        "outputId": "044b8bf8-1a30-4051-cdff-656eeed13aa6"
      },
      "source": [
        "plt.plot(loss_epoch_arr)\n",
        "plt.xlabel(\"epochs\")\n",
        "plt.ylabel(\"loss\")\n",
        "plt.title(\"loss vs epochs\")\n",
        "plt.show()"
      ],
      "execution_count": null,
      "outputs": [
        {
          "output_type": "display_data",
          "data": {
            "image/png": "[encoded data removed]",
            "text/plain": [
              "<Figure size 432x288 with 1 Axes>"
            ]
          },
          "metadata": {
            "tags": [],
            "image/png": {
              "width": 382,
              "height": 277
            },
            "needs_background": "light"
          }
        }
      ]
    },
    {
      "cell_type": "code",
      "metadata": {
        "id": "-gNPQiQJhIg2",
        "colab_type": "code",
        "colab": {}
      },
      "source": [
        ""
      ],
      "execution_count": null,
      "outputs": []
    }
  ]
}